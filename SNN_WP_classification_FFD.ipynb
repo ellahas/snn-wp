{
  "nbformat": 4,
  "nbformat_minor": 0,
  "metadata": {
    "colab": {
      "provenance": []
    },
    "kernelspec": {
      "name": "python3",
      "display_name": "Python 3"
    },
    "language_info": {
      "name": "python"
    },
    "widgets": {
      "application/vnd.jupyter.widget-state+json": {
        "7e12e9a011114b09845290758ad8578a": {
          "model_module": "@jupyter-widgets/controls",
          "model_name": "VBoxModel",
          "model_module_version": "1.5.0",
          "state": {
            "_dom_classes": [],
            "_model_module": "@jupyter-widgets/controls",
            "_model_module_version": "1.5.0",
            "_model_name": "VBoxModel",
            "_view_count": null,
            "_view_module": "@jupyter-widgets/controls",
            "_view_module_version": "1.5.0",
            "_view_name": "VBoxView",
            "box_style": "",
            "children": [
              "IPY_MODEL_28e469905f2f48fcb2abc42b4acd87b8",
              "IPY_MODEL_69b822b9d3374355a3af53d518ef6dc7"
            ],
            "layout": "IPY_MODEL_e634564e018546d998c163fda7de1544"
          }
        },
        "28e469905f2f48fcb2abc42b4acd87b8": {
          "model_module": "@jupyter-widgets/controls",
          "model_name": "LabelModel",
          "model_module_version": "1.5.0",
          "state": {
            "_dom_classes": [],
            "_model_module": "@jupyter-widgets/controls",
            "_model_module_version": "1.5.0",
            "_model_name": "LabelModel",
            "_view_count": null,
            "_view_module": "@jupyter-widgets/controls",
            "_view_module_version": "1.5.0",
            "_view_name": "LabelView",
            "description": "",
            "description_tooltip": null,
            "layout": "IPY_MODEL_dcd594408d7e42a4b91e33c79be3d899",
            "placeholder": "​",
            "style": "IPY_MODEL_785d39362a4644d682246c6bbeab59f2",
            "value": "0.011 MB of 0.011 MB uploaded\r"
          }
        },
        "69b822b9d3374355a3af53d518ef6dc7": {
          "model_module": "@jupyter-widgets/controls",
          "model_name": "FloatProgressModel",
          "model_module_version": "1.5.0",
          "state": {
            "_dom_classes": [],
            "_model_module": "@jupyter-widgets/controls",
            "_model_module_version": "1.5.0",
            "_model_name": "FloatProgressModel",
            "_view_count": null,
            "_view_module": "@jupyter-widgets/controls",
            "_view_module_version": "1.5.0",
            "_view_name": "ProgressView",
            "bar_style": "",
            "description": "",
            "description_tooltip": null,
            "layout": "IPY_MODEL_cdaa4f6c7cd74786ba2eb83bf41a31b6",
            "max": 1,
            "min": 0,
            "orientation": "horizontal",
            "style": "IPY_MODEL_5d5496cb8acd44bb93c6d4360e7c9b8b",
            "value": 1
          }
        },
        "e634564e018546d998c163fda7de1544": {
          "model_module": "@jupyter-widgets/base",
          "model_name": "LayoutModel",
          "model_module_version": "1.2.0",
          "state": {
            "_model_module": "@jupyter-widgets/base",
            "_model_module_version": "1.2.0",
            "_model_name": "LayoutModel",
            "_view_count": null,
            "_view_module": "@jupyter-widgets/base",
            "_view_module_version": "1.2.0",
            "_view_name": "LayoutView",
            "align_content": null,
            "align_items": null,
            "align_self": null,
            "border": null,
            "bottom": null,
            "display": null,
            "flex": null,
            "flex_flow": null,
            "grid_area": null,
            "grid_auto_columns": null,
            "grid_auto_flow": null,
            "grid_auto_rows": null,
            "grid_column": null,
            "grid_gap": null,
            "grid_row": null,
            "grid_template_areas": null,
            "grid_template_columns": null,
            "grid_template_rows": null,
            "height": null,
            "justify_content": null,
            "justify_items": null,
            "left": null,
            "margin": null,
            "max_height": null,
            "max_width": null,
            "min_height": null,
            "min_width": null,
            "object_fit": null,
            "object_position": null,
            "order": null,
            "overflow": null,
            "overflow_x": null,
            "overflow_y": null,
            "padding": null,
            "right": null,
            "top": null,
            "visibility": null,
            "width": null
          }
        },
        "dcd594408d7e42a4b91e33c79be3d899": {
          "model_module": "@jupyter-widgets/base",
          "model_name": "LayoutModel",
          "model_module_version": "1.2.0",
          "state": {
            "_model_module": "@jupyter-widgets/base",
            "_model_module_version": "1.2.0",
            "_model_name": "LayoutModel",
            "_view_count": null,
            "_view_module": "@jupyter-widgets/base",
            "_view_module_version": "1.2.0",
            "_view_name": "LayoutView",
            "align_content": null,
            "align_items": null,
            "align_self": null,
            "border": null,
            "bottom": null,
            "display": null,
            "flex": null,
            "flex_flow": null,
            "grid_area": null,
            "grid_auto_columns": null,
            "grid_auto_flow": null,
            "grid_auto_rows": null,
            "grid_column": null,
            "grid_gap": null,
            "grid_row": null,
            "grid_template_areas": null,
            "grid_template_columns": null,
            "grid_template_rows": null,
            "height": null,
            "justify_content": null,
            "justify_items": null,
            "left": null,
            "margin": null,
            "max_height": null,
            "max_width": null,
            "min_height": null,
            "min_width": null,
            "object_fit": null,
            "object_position": null,
            "order": null,
            "overflow": null,
            "overflow_x": null,
            "overflow_y": null,
            "padding": null,
            "right": null,
            "top": null,
            "visibility": null,
            "width": null
          }
        },
        "785d39362a4644d682246c6bbeab59f2": {
          "model_module": "@jupyter-widgets/controls",
          "model_name": "DescriptionStyleModel",
          "model_module_version": "1.5.0",
          "state": {
            "_model_module": "@jupyter-widgets/controls",
            "_model_module_version": "1.5.0",
            "_model_name": "DescriptionStyleModel",
            "_view_count": null,
            "_view_module": "@jupyter-widgets/base",
            "_view_module_version": "1.2.0",
            "_view_name": "StyleView",
            "description_width": ""
          }
        },
        "cdaa4f6c7cd74786ba2eb83bf41a31b6": {
          "model_module": "@jupyter-widgets/base",
          "model_name": "LayoutModel",
          "model_module_version": "1.2.0",
          "state": {
            "_model_module": "@jupyter-widgets/base",
            "_model_module_version": "1.2.0",
            "_model_name": "LayoutModel",
            "_view_count": null,
            "_view_module": "@jupyter-widgets/base",
            "_view_module_version": "1.2.0",
            "_view_name": "LayoutView",
            "align_content": null,
            "align_items": null,
            "align_self": null,
            "border": null,
            "bottom": null,
            "display": null,
            "flex": null,
            "flex_flow": null,
            "grid_area": null,
            "grid_auto_columns": null,
            "grid_auto_flow": null,
            "grid_auto_rows": null,
            "grid_column": null,
            "grid_gap": null,
            "grid_row": null,
            "grid_template_areas": null,
            "grid_template_columns": null,
            "grid_template_rows": null,
            "height": null,
            "justify_content": null,
            "justify_items": null,
            "left": null,
            "margin": null,
            "max_height": null,
            "max_width": null,
            "min_height": null,
            "min_width": null,
            "object_fit": null,
            "object_position": null,
            "order": null,
            "overflow": null,
            "overflow_x": null,
            "overflow_y": null,
            "padding": null,
            "right": null,
            "top": null,
            "visibility": null,
            "width": null
          }
        },
        "5d5496cb8acd44bb93c6d4360e7c9b8b": {
          "model_module": "@jupyter-widgets/controls",
          "model_name": "ProgressStyleModel",
          "model_module_version": "1.5.0",
          "state": {
            "_model_module": "@jupyter-widgets/controls",
            "_model_module_version": "1.5.0",
            "_model_name": "ProgressStyleModel",
            "_view_count": null,
            "_view_module": "@jupyter-widgets/base",
            "_view_module_version": "1.2.0",
            "_view_name": "StyleView",
            "bar_color": null,
            "description_width": ""
          }
        }
      }
    }
  },
  "cells": [
    {
      "cell_type": "code",
      "execution_count": 8,
      "metadata": {
        "colab": {
          "base_uri": "https://localhost:8080/"
        },
        "id": "axKy_9E9BEGK",
        "outputId": "f2014270-781f-43c1-a49a-49d17690ca38"
      },
      "outputs": [
        {
          "output_type": "stream",
          "name": "stdout",
          "text": [
            "Requirement already satisfied: snntorch in /usr/local/lib/python3.10/dist-packages (0.9.1)\n",
            "Requirement already satisfied: torch>=1.1.0 in /usr/local/lib/python3.10/dist-packages (from snntorch) (2.5.1+cu121)\n",
            "Requirement already satisfied: pandas in /usr/local/lib/python3.10/dist-packages (from snntorch) (2.2.2)\n",
            "Requirement already satisfied: matplotlib in /usr/local/lib/python3.10/dist-packages (from snntorch) (3.8.0)\n",
            "Requirement already satisfied: numpy>=1.17 in /usr/local/lib/python3.10/dist-packages (from snntorch) (1.26.4)\n",
            "Requirement already satisfied: nir in /usr/local/lib/python3.10/dist-packages (from snntorch) (1.0.4)\n",
            "Requirement already satisfied: nirtorch in /usr/local/lib/python3.10/dist-packages (from snntorch) (1.0)\n",
            "Requirement already satisfied: filelock in /usr/local/lib/python3.10/dist-packages (from torch>=1.1.0->snntorch) (3.16.1)\n",
            "Requirement already satisfied: typing-extensions>=4.8.0 in /usr/local/lib/python3.10/dist-packages (from torch>=1.1.0->snntorch) (4.12.2)\n",
            "Requirement already satisfied: networkx in /usr/local/lib/python3.10/dist-packages (from torch>=1.1.0->snntorch) (3.4.2)\n",
            "Requirement already satisfied: jinja2 in /usr/local/lib/python3.10/dist-packages (from torch>=1.1.0->snntorch) (3.1.4)\n",
            "Requirement already satisfied: fsspec in /usr/local/lib/python3.10/dist-packages (from torch>=1.1.0->snntorch) (2024.10.0)\n",
            "Requirement already satisfied: sympy==1.13.1 in /usr/local/lib/python3.10/dist-packages (from torch>=1.1.0->snntorch) (1.13.1)\n",
            "Requirement already satisfied: mpmath<1.4,>=1.1.0 in /usr/local/lib/python3.10/dist-packages (from sympy==1.13.1->torch>=1.1.0->snntorch) (1.3.0)\n",
            "Requirement already satisfied: contourpy>=1.0.1 in /usr/local/lib/python3.10/dist-packages (from matplotlib->snntorch) (1.3.1)\n",
            "Requirement already satisfied: cycler>=0.10 in /usr/local/lib/python3.10/dist-packages (from matplotlib->snntorch) (0.12.1)\n",
            "Requirement already satisfied: fonttools>=4.22.0 in /usr/local/lib/python3.10/dist-packages (from matplotlib->snntorch) (4.55.3)\n",
            "Requirement already satisfied: kiwisolver>=1.0.1 in /usr/local/lib/python3.10/dist-packages (from matplotlib->snntorch) (1.4.7)\n",
            "Requirement already satisfied: packaging>=20.0 in /usr/local/lib/python3.10/dist-packages (from matplotlib->snntorch) (24.2)\n",
            "Requirement already satisfied: pillow>=6.2.0 in /usr/local/lib/python3.10/dist-packages (from matplotlib->snntorch) (11.0.0)\n",
            "Requirement already satisfied: pyparsing>=2.3.1 in /usr/local/lib/python3.10/dist-packages (from matplotlib->snntorch) (3.2.0)\n",
            "Requirement already satisfied: python-dateutil>=2.7 in /usr/local/lib/python3.10/dist-packages (from matplotlib->snntorch) (2.8.2)\n",
            "Requirement already satisfied: h5py in /usr/local/lib/python3.10/dist-packages (from nir->snntorch) (3.12.1)\n",
            "Requirement already satisfied: pytz>=2020.1 in /usr/local/lib/python3.10/dist-packages (from pandas->snntorch) (2024.2)\n",
            "Requirement already satisfied: tzdata>=2022.7 in /usr/local/lib/python3.10/dist-packages (from pandas->snntorch) (2024.2)\n",
            "Requirement already satisfied: six>=1.5 in /usr/local/lib/python3.10/dist-packages (from python-dateutil>=2.7->matplotlib->snntorch) (1.17.0)\n",
            "Requirement already satisfied: MarkupSafe>=2.0 in /usr/local/lib/python3.10/dist-packages (from jinja2->torch>=1.1.0->snntorch) (3.0.2)\n"
          ]
        }
      ],
      "source": [
        "!pip install snntorch\n",
        "import snntorch as snn\n",
        "import snntorch.functional as SF\n",
        "from snntorch import spikeplot as splt\n",
        "from snntorch import spikegen\n",
        "import torch\n",
        "import torch.nn as nn\n",
        "import weight_perturbation as wp\n",
        "import wandb\n",
        "import matplotlib.pyplot as plt"
      ]
    },
    {
      "cell_type": "code",
      "source": [
        "# define a network\n",
        "\n",
        "\n",
        "class SNN_WP(nn.Module):\n",
        "    \"\"\"\n",
        "    SNN for weight perturbation. Consists of two fully connected layers of LIFs.\n",
        "    \"\"\"\n",
        "    def __init__(self, beta, num_inputs, num_hidden, num_outputs, loss):\n",
        "        \"\"\"\n",
        "        Initialize the network\n",
        "\n",
        "        Parameters\n",
        "        ----------\n",
        "        beta : float\n",
        "            The memory leakage of the LIF\n",
        "        num_inputs : int\n",
        "            The size of the input layer\n",
        "        num_hidden : int\n",
        "            The size of the output layer\n",
        "        num_outputs : int\n",
        "            The size of the output\n",
        "        loss : Loss\n",
        "            The loss used during training\n",
        "        \"\"\"\n",
        "        super(SNN_WP, self).__init__()\n",
        "\n",
        "        spike_grad = snn.surrogate.fast_sigmoid(slope=25) #needed for BP\n",
        "        self.fc1 = nn.Linear(num_inputs, num_hidden)\n",
        "        self.lif1 = snn.Leaky(beta=beta, spike_grad=spike_grad)\n",
        "        self.fc2 = nn.Linear(num_hidden, num_outputs)\n",
        "        self.lif2 = snn.Leaky(beta=beta, spike_grad=spike_grad)\n",
        "        self.loss = loss\n",
        "\n",
        "    def clean_forward(self, x):\n",
        "        \"\"\"Wrapper function of forward for readability purposes\"\"\"\n",
        "        return self.forward(x)\n",
        "\n",
        "    def noisy_forward(self, x, noise):\n",
        "        \"\"\"Perturbs the weights and runs a forward pass\n",
        "\n",
        "        Parameters\n",
        "        ----------\n",
        "        x : Array\n",
        "            Input data as spike trains\n",
        "        noise : dict\n",
        "            Noise for each network parameter\n",
        "\n",
        "        Returns\n",
        "        -------\n",
        "        spk : Array\n",
        "            Output spike train\n",
        "        \"\"\"\n",
        "        original_state = self.state_dict()\n",
        "\n",
        "        params = self.named_parameters()\n",
        "        trainable_params = {name: p.data for name, p in params if p.requires_grad}\n",
        "        perturbed_params = wp.dictionary_add(trainable_params, noise)\n",
        "        self.load_state_dict(perturbed_params, strict=False)\n",
        "        spk = self.forward(x)\n",
        "\n",
        "        # reset the parameters back to the unperturbed parameters\n",
        "        self.load_state_dict(original_state)\n",
        "\n",
        "        return spk\n",
        "\n",
        "    def forward(self, x):\n",
        "        \"\"\"Perturbs the weights and runs a forward pass\n",
        "\n",
        "        Parameters\n",
        "        ----------\n",
        "        x : Array\n",
        "            Input data as spike trains\n",
        "\n",
        "        Returns\n",
        "        -------\n",
        "        spk : Array\n",
        "            Output spike train\n",
        "        \"\"\"\n",
        "        # self.mem1 = self.lif1.init_leaky()\n",
        "        # self.mem2 = self.lif2.init_leaky()\n",
        "        # for step in range(x.shape[0]):\n",
        "        #     cur1 = self.fc1(x[step])  # post-synaptic current <-- spk_in x weight\n",
        "        #     spk1, self.mem1 = self.lif1(cur1, self.mem1)  # mem[t+1] <--post-syn current + decayed membrane\n",
        "        #     cur2 = self.fc2(spk1)\n",
        "        #     spk2, self.mem2 = self.lif2(cur2, self.mem2)\n",
        "        # return spk2\n",
        "        self.mem1 = self.lif1.init_leaky()\n",
        "        self.mem2 = self.lif2.init_leaky()\n",
        "        self.output_spikes = torch.zeros((x.shape[1], x.shape[0], x.shape[2]))\n",
        "        for step in range(x.shape[1]):\n",
        "            cur1 = self.fc1(x[:, step])  # post-synaptic current <-- spk_in x weight\n",
        "            spk1, self.mem1 = self.lif1(cur1, self.mem1)  # mem[t+1] <--post-syn current + decayed membrane\n",
        "            cur2 = self.fc2(spk1)\n",
        "            spk2, self.mem2 = self.lif2(cur2, self.mem2)\n",
        "\n",
        "            self.output_spikes[step, :] = spk2\n",
        "        return self.output_spikes\n",
        "\n",
        "    def forward_pass(self, x, y, noise=None):\n",
        "        \"\"\"Perturbs the weights and runs a forward pass\n",
        "\n",
        "        Parameters\n",
        "        ----------\n",
        "        x : Array\n",
        "            Input data as spike trains\n",
        "        y : Array\n",
        "            True labels\n",
        "        noise : dict, optional\n",
        "            Noise for each network parameter\n",
        "\n",
        "        Returns\n",
        "        -------\n",
        "        loss : long\n",
        "            The loss of the pass\n",
        "        \"\"\"\n",
        "        if noise is None:\n",
        "            y_pred = self.clean_forward(x)\n",
        "            return self.loss(y_pred, y)\n",
        "        else:\n",
        "            y_pred = self.noisy_forward(x, noise)\n",
        "            return self.loss(y_pred, y)\n",
        "\n"
      ],
      "metadata": {
        "id": "VoAFOs_TBPrF"
      },
      "execution_count": 9,
      "outputs": []
    },
    {
      "cell_type": "code",
      "source": [
        "class ClassificationDataset(torch.utils.data.Dataset):\n",
        "    \"\"\"Classification dataset.\"\"\"\n",
        "\n",
        "    def __init__(self, num_samples, timesteps, dim_in, num_classes, means, covariances):\n",
        "        \"\"\"Linear relation between input and output\"\"\"\n",
        "        self.num_samples = num_samples * num_classes\n",
        "        self.timesteps = timesteps\n",
        "        self.dim_in = dim_in\n",
        "\n",
        "        labels=[]\n",
        "        data = []\n",
        "        for ind, (mean, cov) in enumerate(zip(means, covariances)):\n",
        "          z = torch.randn(num_samples, len(mean))  # Standard normal samples\n",
        "          L = torch.linalg.cholesky(cov)  # Cholesky decomposition of covariance matrix\n",
        "          cluster_data = z @ L.T + mean  # Transform to desired mean and covariance\n",
        "          data.append(cluster_data)\n",
        "          #print(torch.ones(num_samples)*ind)\n",
        "          labels.append(torch.ones(num_samples, dtype=torch.long)*ind)\n",
        "\n",
        "        data = torch.cat(data, dim=0)\n",
        "        labels = torch.cat(labels, dim=0)\n",
        "\n",
        "        idxs = torch.randperm(self.num_samples)\n",
        "        data = data[idxs, :]\n",
        "        labels = labels[idxs]\n",
        "        data_normalized = (data - data.min()) / (data.max() - data.min() + 1e-6)\n",
        "        self.features = snn.spikegen.rate(data_normalized, timesteps)\n",
        "        self.labels = labels\n",
        "\n",
        "\n",
        "    def __len__(self):\n",
        "        \"\"\"Number of samples.\"\"\"\n",
        "        return self.num_samples\n",
        "\n",
        "    def __getitem__(self, idx):\n",
        "        return self.features[:, idx, :], self.labels[idx]"
      ],
      "metadata": {
        "id": "WWmRMdmEBUQr"
      },
      "execution_count": 10,
      "outputs": []
    },
    {
      "cell_type": "code",
      "source": [
        "def batch_accuracy(test_loader, net):\n",
        "    device = \"cpu\"\n",
        "    with torch.no_grad():\n",
        "        total = 0\n",
        "        acc = 0\n",
        "        net.eval()\n",
        "\n",
        "        test_loader = iter(test_loader)\n",
        "        for data, targets in test_loader:\n",
        "            data = data.to(device)\n",
        "            targets = targets.to(device)\n",
        "            spk_rec = net(data)\n",
        "\n",
        "            acc += SF.accuracy_rate(spk_rec, targets) * spk_rec.size(1)\n",
        "            total += spk_rec.size(1)\n",
        "\n",
        "    return acc / total"
      ],
      "metadata": {
        "id": "RfRWaOVvBakg"
      },
      "execution_count": 11,
      "outputs": []
    },
    {
      "cell_type": "code",
      "source": [
        "def run_experiment(run, method, seed):\n",
        "  torch.manual_seed(seed)\n",
        "  # Select hyperparameters\n",
        "  sigma_vals = [1, 1e-1, 1e-2, 1e-3, 1e-4]\n",
        "  lr_vals = [1e-1, 1e-2, 1e-3, 1e-4, 1]\n",
        "\n",
        "  sigma = sigma_vals[run // len(lr_vals)]\n",
        "  lr = lr_vals[run % len(lr_vals)]\n",
        "  epochs = 50\n",
        "  print(sigma, lr)\n",
        "\n",
        "  wandb.login()\n",
        "\n",
        "  # Init data generation\n",
        "  means = [torch.tensor([0.0, 1.0]), torch.tensor([-2.0, -2.0])]  # List of mean vectors\n",
        "  covariances = [\n",
        "      torch.tensor([[1.0, 0.5], [0.5, 1.0]]),  # Covariance matrix for cluster 1\n",
        "      torch.tensor([[1.0, -0.6], [-0.6, 1.0]])  # Covariance matrix for cluster 2\n",
        "  ]\n",
        "  num_samples_per_cluster = 1000  # Samples per cluster\n",
        "\n",
        "  dataset = ClassificationDataset(num_samples_per_cluster, 80, 8,num_classes=2, means=means, covariances=covariances)\n",
        "\n",
        "  train_set, test_set = torch.utils.data.random_split(dataset, [int(len(dataset)*0.9), int(len(dataset)*0.1)])\n",
        "\n",
        "\n",
        "  train_loader = torch.utils.data.DataLoader(\n",
        "      dataset=train_set, batch_size=20, drop_last=False\n",
        "  )\n",
        "  test_loader = torch.utils.data.DataLoader(\n",
        "      dataset=test_set, batch_size=20, drop_last=False\n",
        "  )\n",
        "\n",
        "  # layer parameters\n",
        "  num_steps = 100\n",
        "  num_inputs = 2\n",
        "  num_hidden = 30\n",
        "  num_outputs = 2\n",
        "  beta = 0.99\n",
        "\n",
        "\n",
        "  # training parameters\n",
        "  loss_hist_wp = []\n",
        "  test_acc_hist_wp = []\n",
        "\n",
        "  config = {\n",
        "      \"learning rate\": lr,\n",
        "      \"sigma\": sigma,\n",
        "      \"beta\": beta,\n",
        "      \"method\": method,\n",
        "      \"dim_in\": num_inputs,\n",
        "  }\n",
        "\n",
        "\n",
        "  loss = SF.ce_rate_loss()\n",
        "  SNN = SNN_WP(beta, num_inputs, num_hidden, num_outputs, loss)\n",
        "\n",
        "  # Initialize the run with appropriate run name\n",
        "  name = f\"classification run with lr:{lr} sigma:{sigma} method: {method}\"\n",
        "  run = wandb.init(project=\"SNN_WP\", entity=\"martin-kraus\", config=config, settings=wandb.Settings(init_timeout=180), name=name)\n",
        "\n",
        "  # Training loop for WP\n",
        "  sampler = torch.distributions.Normal(0, sigma)\n",
        "  device = \"cpu\"\n",
        "  # make a sampler\n",
        "  with torch.no_grad():\n",
        "      for e in range(epochs):\n",
        "          # get input and targets from task\n",
        "          loss_epoch = []\n",
        "          for data, targets in iter(train_loader):\n",
        "              data = data.to(device)\n",
        "              targets = targets.to(device)\n",
        "\n",
        "              params = SNN.named_parameters()\n",
        "              trainable_params = {name: p.data for name, p in params if p.requires_grad}\n",
        "\n",
        "              loss = SNN.forward_pass(data, targets)\n",
        "\n",
        "              wp_grad = wp.compute_snn_gradient(\n",
        "                  SNN.forward_pass, data, targets, trainable_params, sampler, method\n",
        "              )  # do forward passes and compute gradient\n",
        "              #print(wp_grad)\n",
        "              new_weights = wp.update_weights(wp_grad, trainable_params, sigma, lr)\n",
        "              #print(new_weights)\n",
        "              SNN.load_state_dict(new_weights, strict=False)  # update the weights. Huzzah\n",
        "\n",
        "              loss_epoch.append(loss.item())\n",
        "\n",
        "          loss_hist_wp.append(torch.mean(torch.tensor(loss_epoch)))\n",
        "\n",
        "          with torch.no_grad():\n",
        "              # Test set forward pass\n",
        "              test_acc = batch_accuracy(test_loader, SNN)\n",
        "              print(f\"Epoch {e}, Test Acc: {test_acc * 100:.2f}%\\n\")\n",
        "              test_acc_hist_wp.append(test_acc.item())\n",
        "\n",
        "  plt.figure()\n",
        "  plt.plot(loss_hist_wp)\n",
        "  plt.show()\n",
        "  loss = SF.ce_rate_loss()\n",
        "  SNN = SNN_WP(beta, num_inputs, num_hidden, num_outputs, loss)\n",
        "\n",
        "\n",
        "\n",
        "  # training parameters\n",
        "  loss_hist_bp = []\n",
        "  test_acc_hist_bp = []\n",
        "\n",
        "\n",
        "  # Training loop for BP\n",
        "\n",
        "  # only run for one particular sigma, since sigma does not influence BP\n",
        "  device = \"cpu\"\n",
        "  if sigma == 1:\n",
        "\n",
        "    optimizer = torch.optim.SGD(params=SNN.parameters(), lr=lr)\n",
        "    for e in range(epochs):\n",
        "\n",
        "        loss_epoch = []\n",
        "\n",
        "        for data, targets in iter(train_loader):\n",
        "            data = data.to(device)\n",
        "            targets = targets.to(device)\n",
        "\n",
        "            SNN.train()\n",
        "\n",
        "            y_pred = SNN(data)\n",
        "\n",
        "            # initialize the loss & sum over time\n",
        "            loss_val = SNN.loss(y_pred, targets)\n",
        "\n",
        "            # Gradient calculation + weight update\n",
        "            optimizer.zero_grad()\n",
        "            loss_val.backward()\n",
        "            optimizer.step()\n",
        "\n",
        "            # Store loss history for future plotting\n",
        "            loss_epoch.append(loss_val.item())\n",
        "\n",
        "        loss_hist_bp.append(torch.mean(torch.tensor(loss_epoch)))\n",
        "\n",
        "        with torch.no_grad():\n",
        "            # Test set forward pass\n",
        "            test_acc = batch_accuracy(test_loader, SNN)\n",
        "            print(f\"Epoch {e}, Test Acc: {test_acc * 100}%\\n\")\n",
        "            test_acc_hist_bp.append(test_acc.item())\n",
        "    plt.figure()\n",
        "    plt.plot(loss_hist_bp)\n",
        "    plt.show()\n",
        "  for e in range(epochs):\n",
        "    if sigma == 1:\n",
        "      wandb.log(\n",
        "          {\n",
        "              f\"classification/train/WP_{method}\": loss_hist_wp[e],\n",
        "              f\"classification/test/WP_{method}\": test_acc_hist_wp[e],\n",
        "              \"classification/train/BP\": loss_hist_bp[e],\n",
        "              \"classification/test/BP\": test_acc_hist_wp[e]\n",
        "          },\n",
        "          step=e\n",
        "      )\n",
        "    else:\n",
        "      wandb.log(\n",
        "          {\n",
        "              f\"classification/train/WP_{method}\": loss_hist_wp[e],\n",
        "              f\"classification/test/WP_{method}\": test_acc_hist_wp[e]\n",
        "          },\n",
        "          step=e\n",
        "      )\n",
        "  wandb.finish()"
      ],
      "metadata": {
        "id": "Ko42LfZ1BfLX"
      },
      "execution_count": 15,
      "outputs": []
    },
    {
      "cell_type": "code",
      "source": [
        "current_method = \"ffd\""
      ],
      "metadata": {
        "id": "NhZPcRU_D8Oe"
      },
      "execution_count": 13,
      "outputs": []
    },
    {
      "cell_type": "code",
      "source": [
        "run_experiment(0, method=current_method, seed=42)"
      ],
      "metadata": {
        "colab": {
          "base_uri": "https://localhost:8080/",
          "height": 1000,
          "referenced_widgets": [
            "7e12e9a011114b09845290758ad8578a",
            "28e469905f2f48fcb2abc42b4acd87b8",
            "69b822b9d3374355a3af53d518ef6dc7",
            "e634564e018546d998c163fda7de1544",
            "dcd594408d7e42a4b91e33c79be3d899",
            "785d39362a4644d682246c6bbeab59f2",
            "cdaa4f6c7cd74786ba2eb83bf41a31b6",
            "5d5496cb8acd44bb93c6d4360e7c9b8b"
          ]
        },
        "id": "EjWst1FHEYin",
        "outputId": "7bb50aee-cba8-4e97-f71b-8209aabc7d3c"
      },
      "execution_count": 14,
      "outputs": [
        {
          "output_type": "stream",
          "name": "stderr",
          "text": [
            "\u001b[34m\u001b[1mwandb\u001b[0m: \u001b[33mWARNING\u001b[0m Calling wandb.login() after wandb.init() has no effect.\n"
          ]
        },
        {
          "output_type": "stream",
          "name": "stdout",
          "text": [
            "1 0.1\n"
          ]
        },
        {
          "output_type": "display_data",
          "data": {
            "text/plain": [
              "<IPython.core.display.HTML object>"
            ],
            "text/html": [
              "Finishing last run (ID:vwa1683s) before initializing another..."
            ]
          },
          "metadata": {}
        },
        {
          "output_type": "display_data",
          "data": {
            "text/plain": [
              "VBox(children=(Label(value='0.011 MB of 0.011 MB uploaded\\r'), FloatProgress(value=1.0, max=1.0)))"
            ],
            "application/vnd.jupyter.widget-view+json": {
              "version_major": 2,
              "version_minor": 0,
              "model_id": "7e12e9a011114b09845290758ad8578a"
            }
          },
          "metadata": {}
        },
        {
          "output_type": "display_data",
          "data": {
            "text/plain": [
              "<IPython.core.display.HTML object>"
            ],
            "text/html": [
              " View run <strong style=\"color:#cdcd00\">classification run with lr:0.1 sigma:1</strong> at: <a href='https://wandb.ai/martin-kraus/SNN_WP/runs/vwa1683s' target=\"_blank\">https://wandb.ai/martin-kraus/SNN_WP/runs/vwa1683s</a><br/> View project at: <a href='https://wandb.ai/martin-kraus/SNN_WP' target=\"_blank\">https://wandb.ai/martin-kraus/SNN_WP</a><br/>Synced 5 W&B file(s), 0 media file(s), 0 artifact file(s) and 0 other file(s)"
            ]
          },
          "metadata": {}
        },
        {
          "output_type": "display_data",
          "data": {
            "text/plain": [
              "<IPython.core.display.HTML object>"
            ],
            "text/html": [
              "Find logs at: <code>./wandb/run-20241217_193040-vwa1683s/logs</code>"
            ]
          },
          "metadata": {}
        },
        {
          "output_type": "display_data",
          "data": {
            "text/plain": [
              "<IPython.core.display.HTML object>"
            ],
            "text/html": [
              "Successfully finished last run (ID:vwa1683s). Initializing new run:<br/>"
            ]
          },
          "metadata": {}
        },
        {
          "output_type": "display_data",
          "data": {
            "text/plain": [
              "<IPython.core.display.HTML object>"
            ],
            "text/html": [
              "Tracking run with wandb version 0.18.7"
            ]
          },
          "metadata": {}
        },
        {
          "output_type": "display_data",
          "data": {
            "text/plain": [
              "<IPython.core.display.HTML object>"
            ],
            "text/html": [
              "Run data is saved locally in <code>/content/wandb/run-20241217_193257-i43l9z96</code>"
            ]
          },
          "metadata": {}
        },
        {
          "output_type": "display_data",
          "data": {
            "text/plain": [
              "<IPython.core.display.HTML object>"
            ],
            "text/html": [
              "Syncing run <strong><a href='https://wandb.ai/martin-kraus/SNN_WP/runs/i43l9z96' target=\"_blank\">classification run with lr:0.1 sigma:1 method: ffd</a></strong> to <a href='https://wandb.ai/martin-kraus/SNN_WP' target=\"_blank\">Weights & Biases</a> (<a href='https://wandb.me/developer-guide' target=\"_blank\">docs</a>)<br/>"
            ]
          },
          "metadata": {}
        },
        {
          "output_type": "display_data",
          "data": {
            "text/plain": [
              "<IPython.core.display.HTML object>"
            ],
            "text/html": [
              " View project at <a href='https://wandb.ai/martin-kraus/SNN_WP' target=\"_blank\">https://wandb.ai/martin-kraus/SNN_WP</a>"
            ]
          },
          "metadata": {}
        },
        {
          "output_type": "display_data",
          "data": {
            "text/plain": [
              "<IPython.core.display.HTML object>"
            ],
            "text/html": [
              " View run at <a href='https://wandb.ai/martin-kraus/SNN_WP/runs/i43l9z96' target=\"_blank\">https://wandb.ai/martin-kraus/SNN_WP/runs/i43l9z96</a>"
            ]
          },
          "metadata": {}
        },
        {
          "output_type": "stream",
          "name": "stdout",
          "text": [
            "Epoch 0, Test Acc: 49.00%\n",
            "\n",
            "Epoch 1, Test Acc: 49.00%\n",
            "\n",
            "Epoch 2, Test Acc: 49.00%\n",
            "\n",
            "Epoch 3, Test Acc: 49.00%\n",
            "\n",
            "Epoch 4, Test Acc: 49.00%\n",
            "\n",
            "Epoch 5, Test Acc: 49.00%\n",
            "\n",
            "Epoch 6, Test Acc: 49.00%\n",
            "\n",
            "Epoch 7, Test Acc: 49.00%\n",
            "\n",
            "Epoch 8, Test Acc: 49.00%\n",
            "\n",
            "Epoch 9, Test Acc: 49.00%\n",
            "\n",
            "Epoch 10, Test Acc: 49.00%\n",
            "\n",
            "Epoch 11, Test Acc: 49.00%\n",
            "\n",
            "Epoch 12, Test Acc: 49.00%\n",
            "\n",
            "Epoch 13, Test Acc: 49.00%\n",
            "\n",
            "Epoch 14, Test Acc: 49.00%\n",
            "\n",
            "Epoch 15, Test Acc: 49.00%\n",
            "\n",
            "Epoch 16, Test Acc: 50.50%\n",
            "\n",
            "Epoch 17, Test Acc: 49.00%\n",
            "\n",
            "Epoch 18, Test Acc: 49.00%\n",
            "\n",
            "Epoch 19, Test Acc: 49.00%\n",
            "\n",
            "Epoch 20, Test Acc: 49.00%\n",
            "\n",
            "Epoch 21, Test Acc: 49.00%\n",
            "\n",
            "Epoch 22, Test Acc: 49.00%\n",
            "\n",
            "Epoch 23, Test Acc: 49.00%\n",
            "\n",
            "Epoch 24, Test Acc: 49.00%\n",
            "\n",
            "Epoch 25, Test Acc: 49.00%\n",
            "\n",
            "Epoch 26, Test Acc: 49.00%\n",
            "\n",
            "Epoch 27, Test Acc: 49.00%\n",
            "\n",
            "Epoch 28, Test Acc: 49.00%\n",
            "\n",
            "Epoch 29, Test Acc: 49.00%\n",
            "\n",
            "Epoch 30, Test Acc: 49.00%\n",
            "\n",
            "Epoch 31, Test Acc: 49.00%\n",
            "\n",
            "Epoch 32, Test Acc: 49.00%\n",
            "\n",
            "Epoch 33, Test Acc: 49.00%\n",
            "\n",
            "Epoch 34, Test Acc: 49.00%\n",
            "\n",
            "Epoch 35, Test Acc: 49.00%\n",
            "\n",
            "Epoch 36, Test Acc: 33.00%\n",
            "\n",
            "Epoch 37, Test Acc: 49.00%\n",
            "\n",
            "Epoch 38, Test Acc: 49.00%\n",
            "\n",
            "Epoch 39, Test Acc: 49.00%\n",
            "\n",
            "Epoch 40, Test Acc: 49.00%\n",
            "\n",
            "Epoch 41, Test Acc: 43.00%\n",
            "\n",
            "Epoch 42, Test Acc: 49.50%\n",
            "\n",
            "Epoch 43, Test Acc: 49.00%\n",
            "\n",
            "Epoch 44, Test Acc: 49.00%\n",
            "\n",
            "Epoch 45, Test Acc: 32.00%\n",
            "\n",
            "Epoch 46, Test Acc: 43.50%\n",
            "\n",
            "Epoch 47, Test Acc: 45.00%\n",
            "\n",
            "Epoch 48, Test Acc: 44.00%\n",
            "\n",
            "Epoch 49, Test Acc: 49.00%\n",
            "\n"
          ]
        },
        {
          "output_type": "display_data",
          "data": {
            "text/plain": [
              "<Figure size 640x480 with 1 Axes>"
            ],
            "image/png": "[encoded data removed]"
          },
          "metadata": {}
        },
        {
          "output_type": "stream",
          "name": "stdout",
          "text": [
            "Epoch 0, Test Acc: 56.99999999999999%\n",
            "\n",
            "Epoch 1, Test Acc: 57.99999999999999%\n",
            "\n",
            "Epoch 2, Test Acc: 61.5%\n",
            "\n",
            "Epoch 3, Test Acc: 63.0%\n",
            "\n",
            "Epoch 4, Test Acc: 63.5%\n",
            "\n",
            "Epoch 5, Test Acc: 65.0%\n",
            "\n",
            "Epoch 6, Test Acc: 65.5%\n",
            "\n",
            "Epoch 7, Test Acc: 97.5%\n",
            "\n",
            "Epoch 8, Test Acc: 97.5%\n",
            "\n",
            "Epoch 9, Test Acc: 97.5%\n",
            "\n",
            "Epoch 10, Test Acc: 97.5%\n",
            "\n",
            "Epoch 11, Test Acc: 97.5%\n",
            "\n",
            "Epoch 12, Test Acc: 97.5%\n",
            "\n",
            "Epoch 13, Test Acc: 97.5%\n",
            "\n",
            "Epoch 14, Test Acc: 97.5%\n",
            "\n",
            "Epoch 15, Test Acc: 97.5%\n",
            "\n",
            "Epoch 16, Test Acc: 98.0%\n",
            "\n",
            "Epoch 17, Test Acc: 97.5%\n",
            "\n",
            "Epoch 18, Test Acc: 97.5%\n",
            "\n",
            "Epoch 19, Test Acc: 97.5%\n",
            "\n",
            "Epoch 20, Test Acc: 97.5%\n",
            "\n",
            "Epoch 21, Test Acc: 97.5%\n",
            "\n",
            "Epoch 22, Test Acc: 97.5%\n",
            "\n",
            "Epoch 23, Test Acc: 97.5%\n",
            "\n",
            "Epoch 24, Test Acc: 97.5%\n",
            "\n",
            "Epoch 25, Test Acc: 98.0%\n",
            "\n",
            "Epoch 26, Test Acc: 98.5%\n",
            "\n",
            "Epoch 27, Test Acc: 97.5%\n",
            "\n",
            "Epoch 28, Test Acc: 97.5%\n",
            "\n",
            "Epoch 29, Test Acc: 98.0%\n",
            "\n",
            "Epoch 30, Test Acc: 97.5%\n",
            "\n",
            "Epoch 31, Test Acc: 97.5%\n",
            "\n",
            "Epoch 32, Test Acc: 97.5%\n",
            "\n",
            "Epoch 33, Test Acc: 98.0%\n",
            "\n",
            "Epoch 34, Test Acc: 98.0%\n",
            "\n",
            "Epoch 35, Test Acc: 97.5%\n",
            "\n",
            "Epoch 36, Test Acc: 98.0%\n",
            "\n",
            "Epoch 37, Test Acc: 97.5%\n",
            "\n",
            "Epoch 38, Test Acc: 97.5%\n",
            "\n",
            "Epoch 39, Test Acc: 97.5%\n",
            "\n",
            "Epoch 40, Test Acc: 97.5%\n",
            "\n",
            "Epoch 41, Test Acc: 98.0%\n",
            "\n",
            "Epoch 42, Test Acc: 97.5%\n",
            "\n",
            "Epoch 43, Test Acc: 97.5%\n",
            "\n",
            "Epoch 44, Test Acc: 97.5%\n",
            "\n",
            "Epoch 45, Test Acc: 98.5%\n",
            "\n",
            "Epoch 46, Test Acc: 98.0%\n",
            "\n",
            "Epoch 47, Test Acc: 97.5%\n",
            "\n",
            "Epoch 48, Test Acc: 98.0%\n",
            "\n",
            "Epoch 49, Test Acc: 98.0%\n",
            "\n"
          ]
        },
        {
          "output_type": "display_data",
          "data": {
            "text/plain": [
              "<Figure size 640x480 with 1 Axes>"
            ],
            "image/png": "[encoded data removed]"
          },
          "metadata": {}
        },
        {
          "output_type": "display_data",
          "data": {
            "text/plain": [
              "<IPython.core.display.HTML object>"
            ],
            "text/html": [
              "\n",
              "    <style>\n",
              "        .wandb-row {\n",
              "            display: flex;\n",
              "            flex-direction: row;\n",
              "            flex-wrap: wrap;\n",
              "            justify-content: flex-start;\n",
              "            width: 100%;\n",
              "        }\n",
              "        .wandb-col {\n",
              "            display: flex;\n",
              "            flex-direction: column;\n",
              "            flex-basis: 100%;\n",
              "            flex: 1;\n",
              "            padding: 10px;\n",
              "        }\n",
              "    </style>\n",
              "<div class=\"wandb-row\"><div class=\"wandb-col\"><h3>Run history:</h3><br/><table class=\"wandb\"><tr><td>classification/test/BP</td><td>▇▇▇▇▇▇▇▇▇▇▇▇▇█▇▇▇▇▇▇▇▇▇▇▇▇▇▇▇▇▇▇▇▇█▇▁▅▆▇</td></tr><tr><td>classification/test/WP_ffd</td><td>▇▇▇▇▇▇▇▇▇▇▇▇▇▇█▇▇▇▇▇▇▇▇▇▇▇▇▇▇▇▇▇▇▇▅▇▇▁▅▆</td></tr><tr><td>classification/train/BP</td><td>█▇▆▆▆▆▄▂▂▂▂▂▁▁▁▁▁▁▁▁▁▁▁▁▁▁▁▁▁▁▁▁▁▁▁▁▁▁▁▁</td></tr><tr><td>classification/train/WP_ffd</td><td>▆▅█▇▆▇▆▆▇▇▇▇▆▆▆▇▇▆▇▇▃▅▇▆▃▁▃▆▄▄▄▄▃▃▃▅▄▆█▆</td></tr></table><br/></div><div class=\"wandb-col\"><h3>Run summary:</h3><br/><table class=\"wandb\"><tr><td>classification/test/BP</td><td>0.49</td></tr><tr><td>classification/test/WP_ffd</td><td>0.49</td></tr><tr><td>classification/train/BP</td><td>0.4104</td></tr><tr><td>classification/train/WP_ffd</td><td>0.86406</td></tr></table><br/></div></div>"
            ]
          },
          "metadata": {}
        },
        {
          "output_type": "display_data",
          "data": {
            "text/plain": [
              "<IPython.core.display.HTML object>"
            ],
            "text/html": [
              " View run <strong style=\"color:#cdcd00\">classification run with lr:0.1 sigma:1 method: ffd</strong> at: <a href='https://wandb.ai/martin-kraus/SNN_WP/runs/i43l9z96' target=\"_blank\">https://wandb.ai/martin-kraus/SNN_WP/runs/i43l9z96</a><br/> View project at: <a href='https://wandb.ai/martin-kraus/SNN_WP' target=\"_blank\">https://wandb.ai/martin-kraus/SNN_WP</a><br/>Synced 5 W&B file(s), 0 media file(s), 0 artifact file(s) and 0 other file(s)"
            ]
          },
          "metadata": {}
        },
        {
          "output_type": "display_data",
          "data": {
            "text/plain": [
              "<IPython.core.display.HTML object>"
            ],
            "text/html": [
              "Find logs at: <code>./wandb/run-20241217_193257-i43l9z96/logs</code>"
            ]
          },
          "metadata": {}
        }
      ]
    },
    {
      "cell_type": "code",
      "source": [
        "run_experiment(1, method=current_method, seed=42)"
      ],
      "metadata": {
        "id": "zkOcfoRuFZ14"
      },
      "execution_count": null,
      "outputs": []
    },
    {
      "cell_type": "code",
      "source": [
        "run_experiment(2, method=current_method, seed=42)"
      ],
      "metadata": {
        "colab": {
          "base_uri": "https://localhost:8080/",
          "height": 523
        },
        "id": "vMJACEf1Inlr",
        "outputId": "fa43ca92-78b3-4f37-a0e1-3c4f2bdc95ef"
      },
      "execution_count": null,
      "outputs": [
        {
          "output_type": "stream",
          "name": "stdout",
          "text": [
            "1 0.001\n"
          ]
        },
        {
          "output_type": "display_data",
          "data": {
            "text/plain": [
              "<IPython.core.display.HTML object>"
            ],
            "text/html": [
              "Tracking run with wandb version 0.18.7"
            ]
          },
          "metadata": {}
        },
        {
          "output_type": "display_data",
          "data": {
            "text/plain": [
              "<IPython.core.display.HTML object>"
            ],
            "text/html": [
              "Run data is saved locally in <code>/content/wandb/run-20241217_200801-7iktg8vx</code>"
            ]
          },
          "metadata": {}
        },
        {
          "output_type": "display_data",
          "data": {
            "text/plain": [
              "<IPython.core.display.HTML object>"
            ],
            "text/html": [
              "Syncing run <strong><a href='https://wandb.ai/martin-kraus/SNN_WP/runs/7iktg8vx' target=\"_blank\">classification run with lr:0.001 sigma:1 method: ffd</a></strong> to <a href='https://wandb.ai/martin-kraus/SNN_WP' target=\"_blank\">Weights & Biases</a> (<a href='https://wandb.me/developer-guide' target=\"_blank\">docs</a>)<br/>"
            ]
          },
          "metadata": {}
        },
        {
          "output_type": "display_data",
          "data": {
            "text/plain": [
              "<IPython.core.display.HTML object>"
            ],
            "text/html": [
              " View project at <a href='https://wandb.ai/martin-kraus/SNN_WP' target=\"_blank\">https://wandb.ai/martin-kraus/SNN_WP</a>"
            ]
          },
          "metadata": {}
        },
        {
          "output_type": "display_data",
          "data": {
            "text/plain": [
              "<IPython.core.display.HTML object>"
            ],
            "text/html": [
              " View run at <a href='https://wandb.ai/martin-kraus/SNN_WP/runs/7iktg8vx' target=\"_blank\">https://wandb.ai/martin-kraus/SNN_WP/runs/7iktg8vx</a>"
            ]
          },
          "metadata": {}
        },
        {
          "output_type": "stream",
          "name": "stdout",
          "text": [
            "Epoch 0, Test Acc: 49.00%\n",
            "\n",
            "Epoch 1, Test Acc: 49.00%\n",
            "\n",
            "Epoch 2, Test Acc: 49.00%\n",
            "\n",
            "Epoch 3, Test Acc: 49.00%\n",
            "\n",
            "Epoch 4, Test Acc: 49.00%\n",
            "\n",
            "Epoch 5, Test Acc: 49.00%\n",
            "\n",
            "Epoch 6, Test Acc: 49.00%\n",
            "\n",
            "Epoch 7, Test Acc: 49.00%\n",
            "\n",
            "Epoch 8, Test Acc: 49.00%\n",
            "\n",
            "Epoch 9, Test Acc: 49.00%\n",
            "\n",
            "Epoch 10, Test Acc: 49.00%\n",
            "\n"
          ]
        }
      ]
    },
    {
      "cell_type": "code",
      "source": [
        "run_experiment(3, method=current_method, seed=42)"
      ],
      "metadata": {
        "id": "l4EIrwPjIpXY"
      },
      "execution_count": null,
      "outputs": []
    },
    {
      "cell_type": "code",
      "source": [
        "run_experiment(4, method=current_method, seed=42)"
      ],
      "metadata": {
        "id": "ksX_hBHLIqfv"
      },
      "execution_count": null,
      "outputs": []
    },
    {
      "cell_type": "code",
      "source": [
        "run_experiment(5, method=current_method, seed=42)"
      ],
      "metadata": {
        "id": "jdciRU0YIsQG"
      },
      "execution_count": null,
      "outputs": []
    },
    {
      "cell_type": "code",
      "source": [
        "run_experiment(6, method=current_method, seed=42)"
      ],
      "metadata": {
        "id": "gVp7YTv9Ite_"
      },
      "execution_count": null,
      "outputs": []
    },
    {
      "cell_type": "code",
      "source": [
        "run_experiment(7, method=current_method, seed=42)"
      ],
      "metadata": {
        "id": "RV112FNmIumQ"
      },
      "execution_count": null,
      "outputs": []
    },
    {
      "cell_type": "code",
      "source": [
        "run_experiment(8, method=current_method, seed=42)"
      ],
      "metadata": {
        "id": "UskaqpviIv_C"
      },
      "execution_count": null,
      "outputs": []
    },
    {
      "cell_type": "code",
      "source": [
        "run_experiment(9, method=current_method, seed=42)"
      ],
      "metadata": {
        "id": "AGe13f_xIxKT"
      },
      "execution_count": null,
      "outputs": []
    },
    {
      "cell_type": "code",
      "source": [
        "run_experiment(10, method=current_method, seed=42)"
      ],
      "metadata": {
        "id": "IrrsIDZVIyTy"
      },
      "execution_count": null,
      "outputs": []
    },
    {
      "cell_type": "code",
      "source": [
        "run_experiment(11, method=current_method, seed=42)"
      ],
      "metadata": {
        "id": "ionZcedlIz1X"
      },
      "execution_count": null,
      "outputs": []
    },
    {
      "cell_type": "code",
      "source": [
        "run_experiment(12, method=current_method, seed=42)"
      ],
      "metadata": {
        "id": "c3WjjJeAI00E"
      },
      "execution_count": null,
      "outputs": []
    },
    {
      "cell_type": "code",
      "source": [
        "run_experiment(13, method=current_method, seed=42)"
      ],
      "metadata": {
        "id": "9-c7oxlSI1gi"
      },
      "execution_count": null,
      "outputs": []
    },
    {
      "cell_type": "code",
      "source": [
        "run_experiment(14, method=current_method, seed=42)"
      ],
      "metadata": {
        "id": "HoPz1Y7fI2No"
      },
      "execution_count": null,
      "outputs": []
    },
    {
      "cell_type": "code",
      "source": [
        "run_experiment(15, method=current_method, seed=42)"
      ],
      "metadata": {
        "id": "2HCY8H_zI3oa"
      },
      "execution_count": null,
      "outputs": []
    },
    {
      "cell_type": "code",
      "source": [
        "run_experiment(16, method=current_method, seed=42)"
      ],
      "metadata": {
        "id": "oH7lTAzXI4iK"
      },
      "execution_count": null,
      "outputs": []
    },
    {
      "cell_type": "code",
      "source": [
        "run_experiment(17, method=current_method, seed=42)"
      ],
      "metadata": {
        "id": "5F5MnbVoI5fP"
      },
      "execution_count": null,
      "outputs": []
    },
    {
      "cell_type": "code",
      "source": [
        "run_experiment(18, method=current_method, seed=42)"
      ],
      "metadata": {
        "id": "W4861BxwI6Yf"
      },
      "execution_count": null,
      "outputs": []
    },
    {
      "cell_type": "code",
      "source": [
        "run_experiment(19, method=current_method, seed=42)"
      ],
      "metadata": {
        "id": "i2EaAn8rI7eB"
      },
      "execution_count": null,
      "outputs": []
    },
    {
      "cell_type": "code",
      "source": [
        "run_experiment(20, method=current_method, seed=42)"
      ],
      "metadata": {
        "id": "2RIXjEAvI8YH"
      },
      "execution_count": null,
      "outputs": []
    },
    {
      "cell_type": "code",
      "source": [
        "run_experiment(21, method=current_method, seed=42)"
      ],
      "metadata": {
        "id": "vDXau-66I9Zj"
      },
      "execution_count": null,
      "outputs": []
    },
    {
      "cell_type": "code",
      "source": [
        "run_experiment(22, method=current_method, seed=42)"
      ],
      "metadata": {
        "id": "xzG9JbVpI-mE"
      },
      "execution_count": null,
      "outputs": []
    },
    {
      "cell_type": "code",
      "source": [
        "run_experiment(23, method=current_method, seed=42)"
      ],
      "metadata": {
        "id": "U3kgJ1nII_tn"
      },
      "execution_count": null,
      "outputs": []
    },
    {
      "cell_type": "code",
      "source": [
        "run_experiment(24, method=current_method, seed=42)"
      ],
      "metadata": {
        "id": "iIwMIXe7JBFg"
      },
      "execution_count": null,
      "outputs": []
    }
  ]
}