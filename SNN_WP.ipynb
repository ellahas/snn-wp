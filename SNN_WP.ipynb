{
 "cells": [
  {
   "cell_type": "markdown",
   "metadata": {},
   "source": [
    "### SNN WP"
   ]
  },
  {
   "cell_type": "code",
   "execution_count": 1,
   "metadata": {},
   "outputs": [],
   "source": [
    "import snntorch as snn\n",
    "from snntorch import spikeplot as splt\n",
    "from snntorch import spikegen\n",
    "\n",
    "import torch\n",
    "import torch.nn as nn \n",
    "import weight_perturbation as wp"
   ]
  },
  {
   "cell_type": "code",
   "execution_count": 2,
   "metadata": {},
   "outputs": [],
   "source": [
    "# define a network\n",
    "\n",
    "\n",
    "class SNN_WP(nn.Module):\n",
    "    # initialize layers\n",
    "    def __init__(self, beta, num_inputs, num_hidden, num_outputs, loss):\n",
    "        super(SNN_WP, self).__init__()\n",
    "        self.fc1 = nn.Linear(num_inputs, num_hidden)\n",
    "        self.lif1 = snn.Leaky(beta=beta)\n",
    "        self.fc2 = nn.Linear(num_hidden, num_outputs)\n",
    "        self.lif2 = snn.Leaky(beta=beta)\n",
    "        self.loss = loss\n",
    "\n",
    "    def clean_forward(self, x):\n",
    "\n",
    "        self.mem1 = self.lif1.init_leaky()\n",
    "        self.mem2 = self.lif2.init_leaky()\n",
    "        for step in range(x.shape[0]):  \n",
    "            cur1 = self.fc1(x[step])  # post-synaptic current <-- spk_in x weight\n",
    "            spk1, self.mem1 = self.lif1(cur1, self.mem1)  # mem[t+1] <--post-syn current + decayed membrane\n",
    "            cur2 = self.fc2(spk1)\n",
    "            spk2, self.mem2 = self.lif2(cur2, self.mem2)\n",
    "        return spk2\n",
    "\n",
    "    def noisy_forward(self, x, noise):\n",
    "        original_state = self.state_dict()\n",
    "        perturbed_params = wp.dictionary_add(original_state, noise)\n",
    "        self.load_state_dict(perturbed_params) \n",
    "        spk = self.forward(x)\n",
    "\n",
    "        self.load_state_dict(original_state)\n",
    "\n",
    "        return spk\n",
    "\n",
    "    def forward(self, x):\n",
    "        return self.clean_forward(x)\n",
    "    \n",
    "    def forward_pass(self, x, y, noise=None):\n",
    "        if noise is None:\n",
    "            y_pred = self.clean_forward(x)\n",
    "            return self.loss(y_pred, y)\n",
    "        else:\n",
    "            y_pred = self.noisy_forward(x, noise)\n",
    "            return self.loss(y_pred, y)"
   ]
  },
  {
   "cell_type": "code",
   "execution_count": 3,
   "metadata": {},
   "outputs": [],
   "source": [
    "# layer parameters\n",
    "num_steps = 20\n",
    "num_inputs = 5\n",
    "num_hidden = 20\n",
    "num_outputs = 2\n",
    "beta = 0.99\n",
    "loss = nn.CrossEntropyLoss()\n",
    "snn = SNN_WP(beta, num_inputs, num_hidden, num_outputs, loss)\n",
    "\n"
   ]
  },
  {
   "cell_type": "code",
   "execution_count": 4,
   "metadata": {},
   "outputs": [],
   "source": [
    "# Training loop\n",
    "\n",
    "epochs = 5\n",
    "method = \"cfd\"\n",
    "sigma = 1e-6\n",
    "lr = 1e-8\n",
    "sampler = torch.distributions.Normal(0, sigma)\n",
    "# make a sampler\n",
    "\n",
    "for e in range(epochs):\n",
    "    # get input and targets from task\n",
    "    spk_in = spikegen.rate_conv(torch.rand((num_steps, num_inputs))).unsqueeze(1)\n",
    "    y = torch.ones(1).long()\n",
    "    params = snn.state_dict()\n",
    "\n",
    "    wp_grad = wp.compute_snn_gradient(\n",
    "        snn.forward_pass, spk_in, y, params, sampler, method\n",
    "    )  # do forward passes and compute gradient\n",
    "\n",
    "    new_weights = wp.update_weights(wp_grad, params, sigma, lr)\n",
    "\n",
    "    snn.load_state_dict(new_weights) #update the weights. Huzzah"
   ]
  }
 ],
 "metadata": {
  "kernelspec": {
   "display_name": "base",
   "language": "python",
   "name": "python3"
  },
  "language_info": {
   "codemirror_mode": {
    "name": "ipython",
    "version": 3
   },
   "file_extension": ".py",
   "mimetype": "text/x-python",
   "name": "python",
   "nbconvert_exporter": "python",
   "pygments_lexer": "ipython3",
   "version": "3.11.5"
  }
 },
 "nbformat": 4,
 "nbformat_minor": 2
}
