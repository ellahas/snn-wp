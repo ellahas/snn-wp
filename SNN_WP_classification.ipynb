{
  "cells": [
    {
      "cell_type": "markdown",
      "metadata": {
        "id": "DbBEMnZ2GoRz"
      },
      "source": [
        "### SNN WP"
      ]
    },
    {
      "cell_type": "code",
      "execution_count": 1,
      "metadata": {
        "colab": {
          "base_uri": "https://localhost:8080/"
        },
        "id": "NaxfRfK3GoR1",
        "outputId": "cdec55ec-7998-4119-aa0c-571e66c00228"
      },
      "outputs": [
        {
          "output_type": "stream",
          "name": "stdout",
          "text": [
            "Requirement already satisfied: snntorch in /usr/local/lib/python3.10/dist-packages (0.9.1)\n",
            "Requirement already satisfied: torch>=1.1.0 in /usr/local/lib/python3.10/dist-packages (from snntorch) (2.5.1+cu121)\n",
            "Requirement already satisfied: pandas in /usr/local/lib/python3.10/dist-packages (from snntorch) (2.2.2)\n",
            "Requirement already satisfied: matplotlib in /usr/local/lib/python3.10/dist-packages (from snntorch) (3.8.0)\n",
            "Requirement already satisfied: numpy>=1.17 in /usr/local/lib/python3.10/dist-packages (from snntorch) (1.26.4)\n",
            "Requirement already satisfied: nir in /usr/local/lib/python3.10/dist-packages (from snntorch) (1.0.4)\n",
            "Requirement already satisfied: nirtorch in /usr/local/lib/python3.10/dist-packages (from snntorch) (1.0)\n",
            "Requirement already satisfied: filelock in /usr/local/lib/python3.10/dist-packages (from torch>=1.1.0->snntorch) (3.16.1)\n",
            "Requirement already satisfied: typing-extensions>=4.8.0 in /usr/local/lib/python3.10/dist-packages (from torch>=1.1.0->snntorch) (4.12.2)\n",
            "Requirement already satisfied: networkx in /usr/local/lib/python3.10/dist-packages (from torch>=1.1.0->snntorch) (3.4.2)\n",
            "Requirement already satisfied: jinja2 in /usr/local/lib/python3.10/dist-packages (from torch>=1.1.0->snntorch) (3.1.4)\n",
            "Requirement already satisfied: fsspec in /usr/local/lib/python3.10/dist-packages (from torch>=1.1.0->snntorch) (2024.10.0)\n",
            "Requirement already satisfied: sympy==1.13.1 in /usr/local/lib/python3.10/dist-packages (from torch>=1.1.0->snntorch) (1.13.1)\n",
            "Requirement already satisfied: mpmath<1.4,>=1.1.0 in /usr/local/lib/python3.10/dist-packages (from sympy==1.13.1->torch>=1.1.0->snntorch) (1.3.0)\n",
            "Requirement already satisfied: contourpy>=1.0.1 in /usr/local/lib/python3.10/dist-packages (from matplotlib->snntorch) (1.3.1)\n",
            "Requirement already satisfied: cycler>=0.10 in /usr/local/lib/python3.10/dist-packages (from matplotlib->snntorch) (0.12.1)\n",
            "Requirement already satisfied: fonttools>=4.22.0 in /usr/local/lib/python3.10/dist-packages (from matplotlib->snntorch) (4.55.1)\n",
            "Requirement already satisfied: kiwisolver>=1.0.1 in /usr/local/lib/python3.10/dist-packages (from matplotlib->snntorch) (1.4.7)\n",
            "Requirement already satisfied: packaging>=20.0 in /usr/local/lib/python3.10/dist-packages (from matplotlib->snntorch) (24.2)\n",
            "Requirement already satisfied: pillow>=6.2.0 in /usr/local/lib/python3.10/dist-packages (from matplotlib->snntorch) (11.0.0)\n",
            "Requirement already satisfied: pyparsing>=2.3.1 in /usr/local/lib/python3.10/dist-packages (from matplotlib->snntorch) (3.2.0)\n",
            "Requirement already satisfied: python-dateutil>=2.7 in /usr/local/lib/python3.10/dist-packages (from matplotlib->snntorch) (2.8.2)\n",
            "Requirement already satisfied: h5py in /usr/local/lib/python3.10/dist-packages (from nir->snntorch) (3.12.1)\n",
            "Requirement already satisfied: pytz>=2020.1 in /usr/local/lib/python3.10/dist-packages (from pandas->snntorch) (2024.2)\n",
            "Requirement already satisfied: tzdata>=2022.7 in /usr/local/lib/python3.10/dist-packages (from pandas->snntorch) (2024.2)\n",
            "Requirement already satisfied: six>=1.5 in /usr/local/lib/python3.10/dist-packages (from python-dateutil>=2.7->matplotlib->snntorch) (1.16.0)\n",
            "Requirement already satisfied: MarkupSafe>=2.0 in /usr/local/lib/python3.10/dist-packages (from jinja2->torch>=1.1.0->snntorch) (3.0.2)\n"
          ]
        }
      ],
      "source": [
        "!pip install snntorch\n",
        "import snntorch as snn\n",
        "import snntorch.functional as SF\n",
        "\n",
        "from snntorch import spikeplot as splt\n",
        "\n",
        "from snntorch import spikegen\n",
        "\n",
        "import torch\n",
        "\n",
        "import torch.nn as nn\n",
        "\n",
        "import weight_perturbation as wp"
      ]
    },
    {
      "cell_type": "code",
      "execution_count": 2,
      "metadata": {
        "id": "ivSc5dUwGoR1"
      },
      "outputs": [],
      "source": [
        "# define a network\n",
        "\n",
        "\n",
        "class SNN_WP(nn.Module):\n",
        "    \"\"\"\n",
        "    SNN for weight perturbation. Consists of two fully connected layers of LIFs.\n",
        "    \"\"\"\n",
        "    def __init__(self, beta, num_inputs, num_hidden, num_outputs, loss):\n",
        "        \"\"\"\n",
        "        Initialize the network\n",
        "\n",
        "        Parameters\n",
        "        ----------\n",
        "        beta : float\n",
        "            The memory leakage of the LIF\n",
        "        num_inputs : int\n",
        "            The size of the input layer\n",
        "        num_hidden : int\n",
        "            The size of the output layer\n",
        "        num_outputs : int\n",
        "            The size of the output\n",
        "        loss : Loss\n",
        "            The loss used during training\n",
        "        \"\"\"\n",
        "        super(SNN_WP, self).__init__()\n",
        "\n",
        "        spike_grad = snn.surrogate.fast_sigmoid(slope=25) #needed for BP\n",
        "        self.fc1 = nn.Linear(num_inputs, num_hidden)\n",
        "        self.lif1 = snn.Leaky(beta=beta, spike_grad=spike_grad)\n",
        "        self.fc2 = nn.Linear(num_hidden, num_outputs)\n",
        "        self.lif2 = snn.Leaky(beta=beta, spike_grad=spike_grad)\n",
        "        self.loss = loss\n",
        "\n",
        "    def clean_forward(self, x):\n",
        "        \"\"\"Wrapper function of forward for readability purposes\"\"\"\n",
        "        return self.forward(x)\n",
        "\n",
        "    def noisy_forward(self, x, noise):\n",
        "        \"\"\"Perturbs the weights and runs a forward pass\n",
        "\n",
        "        Parameters\n",
        "        ----------\n",
        "        x : Array\n",
        "            Input data as spike trains\n",
        "        noise : dict\n",
        "            Noise for each network parameter\n",
        "\n",
        "        Returns\n",
        "        -------\n",
        "        spk : Array\n",
        "            Output spike train\n",
        "        \"\"\"\n",
        "        original_state = self.state_dict()\n",
        "\n",
        "        params = self.named_parameters()\n",
        "        trainable_params = {name: p.data for name, p in params if p.requires_grad}\n",
        "        perturbed_params = wp.dictionary_add(trainable_params, noise)\n",
        "        self.load_state_dict(perturbed_params, strict=False)\n",
        "        spk = self.forward(x)\n",
        "\n",
        "        # reset the parameters back to the unperturbed parameters\n",
        "        self.load_state_dict(original_state)\n",
        "\n",
        "        return spk\n",
        "\n",
        "    def forward(self, x):\n",
        "        \"\"\"Perturbs the weights and runs a forward pass\n",
        "\n",
        "        Parameters\n",
        "        ----------\n",
        "        x : Array\n",
        "            Input data as spike trains\n",
        "\n",
        "        Returns\n",
        "        -------\n",
        "        spk : Array\n",
        "            Output spike train\n",
        "        \"\"\"\n",
        "        # self.mem1 = self.lif1.init_leaky()\n",
        "        # self.mem2 = self.lif2.init_leaky()\n",
        "        # for step in range(x.shape[0]):\n",
        "        #     cur1 = self.fc1(x[step])  # post-synaptic current <-- spk_in x weight\n",
        "        #     spk1, self.mem1 = self.lif1(cur1, self.mem1)  # mem[t+1] <--post-syn current + decayed membrane\n",
        "        #     cur2 = self.fc2(spk1)\n",
        "        #     spk2, self.mem2 = self.lif2(cur2, self.mem2)\n",
        "        # return spk2\n",
        "        self.mem1 = self.lif1.init_leaky()\n",
        "        self.mem2 = self.lif2.init_leaky()\n",
        "        self.output_spikes = torch.zeros((x.shape[1], x.shape[0], x.shape[2]))\n",
        "        for step in range(x.shape[1]):\n",
        "            cur1 = self.fc1(x[:, step])  # post-synaptic current <-- spk_in x weight\n",
        "            spk1, self.mem1 = self.lif1(cur1, self.mem1)  # mem[t+1] <--post-syn current + decayed membrane\n",
        "            cur2 = self.fc2(spk1)\n",
        "            spk2, self.mem2 = self.lif2(cur2, self.mem2)\n",
        "\n",
        "            self.output_spikes[step, :] = spk2\n",
        "        return self.output_spikes\n",
        "\n",
        "    def forward_pass(self, x, y, noise=None):\n",
        "        \"\"\"Perturbs the weights and runs a forward pass\n",
        "\n",
        "        Parameters\n",
        "        ----------\n",
        "        x : Array\n",
        "            Input data as spike trains\n",
        "        y : Array\n",
        "            True labels\n",
        "        noise : dict, optional\n",
        "            Noise for each network parameter\n",
        "\n",
        "        Returns\n",
        "        -------\n",
        "        loss : long\n",
        "            The loss of the pass\n",
        "        \"\"\"\n",
        "        if noise is None:\n",
        "            y_pred = self.clean_forward(x)\n",
        "            return self.loss(y_pred, y)\n",
        "        else:\n",
        "            y_pred = self.noisy_forward(x, noise)\n",
        "            return self.loss(y_pred, y)\n",
        "\n"
      ]
    },
    {
      "cell_type": "code",
      "execution_count": 3,
      "metadata": {
        "id": "lgSYnQIgGoR3"
      },
      "outputs": [],
      "source": [
        "class ClassificationDataset(torch.utils.data.Dataset):\n",
        "    \"\"\"Classification dataset.\"\"\"\n",
        "\n",
        "    def __init__(self, num_samples, timesteps, dim_in, num_classes, means, covariances):\n",
        "        \"\"\"Linear relation between input and output\"\"\"\n",
        "        self.num_samples = num_samples * num_classes\n",
        "        self.timesteps = timesteps\n",
        "        self.dim_in = dim_in\n",
        "\n",
        "        labels=[]\n",
        "        data = []\n",
        "        for ind, (mean, cov) in enumerate(zip(means, covariances)):\n",
        "          z = torch.randn(num_samples, len(mean))  # Standard normal samples\n",
        "          L = torch.linalg.cholesky(cov)  # Cholesky decomposition of covariance matrix\n",
        "          cluster_data = z @ L.T + mean  # Transform to desired mean and covariance\n",
        "          data.append(cluster_data)\n",
        "          #print(torch.ones(num_samples)*ind)\n",
        "          labels.append(torch.ones(num_samples, dtype=torch.long)*ind)\n",
        "\n",
        "        data = torch.cat(data, dim=0)\n",
        "        labels = torch.cat(labels, dim=0)\n",
        "\n",
        "        idxs = torch.randperm(self.num_samples)\n",
        "        data = data[idxs, :]\n",
        "        labels = labels[idxs]\n",
        "        data_normalized = (data - data.min()) / (data.max() - data.min() + 1e-6)\n",
        "        self.features = snn.spikegen.rate(data_normalized, timesteps)\n",
        "        self.labels = labels\n",
        "\n",
        "\n",
        "    def __len__(self):\n",
        "        \"\"\"Number of samples.\"\"\"\n",
        "        return self.num_samples\n",
        "\n",
        "    def __getitem__(self, idx):\n",
        "        return self.features[:, idx, :], self.labels[idx]"
      ]
    },
    {
      "cell_type": "code",
      "execution_count": 4,
      "metadata": {
        "id": "5NeTVTf8GoR3"
      },
      "outputs": [],
      "source": [
        "means = [torch.tensor([2.0, 3.0]), torch.tensor([-3.0, -2.0])]  # List of mean vectors\n",
        "covariances = [\n",
        "    torch.tensor([[1.0, 0.5], [0.5, 1.0]]),  # Covariance matrix for cluster 1\n",
        "    torch.tensor([[1.0, -0.9], [-0.9, 1.0]])  # Covariance matrix for cluster 2\n",
        "]\n",
        "num_samples_per_cluster = 1000  # Samples per cluster\n",
        "\n",
        "dataset = ClassificationDataset(num_samples_per_cluster, 80, 8,num_classes=2, means=means, covariances=covariances)\n",
        "\n",
        "train_set, test_set = torch.utils.data.random_split(dataset, [int(len(dataset)*0.9), int(len(dataset)*0.1)])\n",
        "\n",
        "\n",
        "train_loader = torch.utils.data.DataLoader(\n",
        "    dataset=train_set, batch_size=20, drop_last=True\n",
        ")\n",
        "test_loader = torch.utils.data.DataLoader(\n",
        "    dataset=test_set, batch_size=20, drop_last=True\n",
        ")\n"
      ]
    },
    {
      "cell_type": "code",
      "execution_count": 33,
      "metadata": {
        "id": "fB9KHEMBGoR4"
      },
      "outputs": [],
      "source": [
        "def batch_accuracy(test_loader, net):\n",
        "    with torch.no_grad():\n",
        "        total = 0\n",
        "        acc = 0\n",
        "        net.eval()\n",
        "\n",
        "        test_loader = iter(test_loader)\n",
        "        for data, targets in test_loader:\n",
        "            data = data.to(device)\n",
        "            targets = targets.to(device)\n",
        "            spk_rec = net(data)\n",
        "\n",
        "            acc += SF.accuracy_rate(spk_rec, targets) * spk_rec.size(1)\n",
        "            total += spk_rec.size(1)\n",
        "\n",
        "    return acc / total"
      ]
    },
    {
      "cell_type": "code",
      "execution_count": 59,
      "metadata": {
        "id": "lRxzKP-DGoR3"
      },
      "outputs": [],
      "source": [
        "# layer parameters\n",
        "num_steps = 20\n",
        "num_inputs = 2\n",
        "num_hidden = 20\n",
        "num_outputs = 2\n",
        "beta = 0.99\n",
        "loss = SF.ce_rate_loss()\n",
        "SNN = SNN_WP(beta, num_inputs, num_hidden, num_outputs, loss)\n",
        "\n",
        "\n",
        "# training parameters\n",
        "loss_hist_wp = []\n",
        "test_acc_hist_wp = []\n",
        "epochs = 5\n",
        "method = \"cfd\"\n",
        "sigma = 0.1\n",
        "lr = 0.1\n",
        "device = \"cpu\""
      ]
    },
    {
      "cell_type": "code",
      "execution_count": 60,
      "metadata": {
        "id": "vmmYElCgGoR4",
        "colab": {
          "base_uri": "https://localhost:8080/"
        },
        "outputId": "5a6a26a6-27c3-4d6b-d087-3e982f6d167d"
      },
      "outputs": [
        {
          "output_type": "stream",
          "name": "stdout",
          "text": [
            "Epoch 0, Test Acc: 97.50%\n",
            "\n",
            "Epoch 1, Test Acc: 99.50%\n",
            "\n",
            "Epoch 2, Test Acc: 99.00%\n",
            "\n",
            "Epoch 3, Test Acc: 99.00%\n",
            "\n",
            "Epoch 4, Test Acc: 100.00%\n",
            "\n"
          ]
        }
      ],
      "source": [
        "# Training loop for WP\n",
        "\n",
        "sampler = torch.distributions.Normal(0, sigma)\n",
        "# make a sampler\n",
        "\n",
        "with torch.no_grad():\n",
        "    for e in range(epochs):\n",
        "        # get input and targets from task\n",
        "        loss_epoch = []\n",
        "        for data, targets in iter(train_loader):\n",
        "\n",
        "            data = data.to(device)\n",
        "            targets = targets.to(device)\n",
        "\n",
        "            params = SNN.named_parameters()\n",
        "            trainable_params = {name: p.data for name, p in params if p.requires_grad}\n",
        "\n",
        "            loss = SNN.forward_pass(data, targets)\n",
        "\n",
        "            wp_grad = wp.compute_snn_gradient(\n",
        "                SNN.forward_pass, data, targets, trainable_params, sampler, method\n",
        "            )  # do forward passes and compute gradient\n",
        "            #print(wp_grad)\n",
        "            new_weights = wp.update_weights(wp_grad, trainable_params, sigma, lr)\n",
        "            #print(new_weights)\n",
        "            SNN.load_state_dict(new_weights, strict=False)  # update the weights. Huzzah\n",
        "\n",
        "            loss_epoch.append(loss.item())\n",
        "\n",
        "        loss_hist_wp.append(torch.mean(torch.tensor(loss_epoch)))\n",
        "\n",
        "        with torch.no_grad():\n",
        "            # Test set forward pass\n",
        "            test_acc = batch_accuracy(test_loader, SNN)\n",
        "            print(f\"Epoch {e}, Test Acc: {test_acc * 100:.2f}%\\n\")\n",
        "            test_acc_hist_wp.append(test_acc.item())"
      ]
    },
    {
      "cell_type": "code",
      "source": [
        "#very vollatile\n",
        "import matplotlib.pyplot as plt\n",
        "plt.figure()\n",
        "plt.plot(loss_hist_wp)\n",
        "print(loss_hist_wp)\n",
        "plt.show()"
      ],
      "metadata": {
        "colab": {
          "base_uri": "https://localhost:8080/",
          "height": 447
        },
        "id": "5giZ9k2kHY0P",
        "outputId": "d66eb1f8-8c4d-4d79-87aa-a571c6bd809a"
      },
      "execution_count": 61,
      "outputs": [
        {
          "output_type": "stream",
          "name": "stdout",
          "text": [
            "[tensor(0.6107), tensor(0.4028), tensor(0.3410), tensor(0.3390), tensor(0.3436)]\n"
          ]
        },
        {
          "output_type": "display_data",
          "data": {
            "text/plain": [
              "<Figure size 640x480 with 1 Axes>"
            ],
            "image/png": "[encoded data removed]"
          },
          "metadata": {}
        }
      ]
    },
    {
      "cell_type": "code",
      "source": [
        "# layer parameters\n",
        "num_steps = 20\n",
        "num_inputs = 2\n",
        "num_hidden = 20\n",
        "num_outputs = 2\n",
        "beta = 0.99\n",
        "loss = SF.ce_rate_loss()\n",
        "SNN = SNN_WP(beta, num_inputs, num_hidden, num_outputs, loss)\n",
        "\n",
        "\n",
        "# training parameters\n",
        "loss_hist_bp = []\n",
        "test_acc_hist_bp = []\n",
        "epochs = 5\n",
        "lr = 0.05\n",
        "device = \"cpu\""
      ],
      "metadata": {
        "id": "bYYIJ8-5JK4w"
      },
      "execution_count": 40,
      "outputs": []
    },
    {
      "cell_type": "code",
      "execution_count": 41,
      "metadata": {
        "id": "JKZLt-TQGoR5",
        "colab": {
          "base_uri": "https://localhost:8080/"
        },
        "outputId": "393d47b7-a3a9-4f88-c7e9-0440cc4ba328"
      },
      "outputs": [
        {
          "output_type": "stream",
          "name": "stdout",
          "text": [
            "Epoch 0, Test Acc: 51.0%\n",
            "\n",
            "Epoch 1, Test Acc: 62.0%\n",
            "\n",
            "Epoch 2, Test Acc: 67.0%\n",
            "\n",
            "Epoch 3, Test Acc: 70.0%\n",
            "\n",
            "Epoch 4, Test Acc: 72.5%\n",
            "\n"
          ]
        }
      ],
      "source": [
        "# Training loop for BP\n",
        "\n",
        "optimizer = torch.optim.SGD(params=SNN.parameters(), lr=lr)\n",
        "\n",
        "\n",
        "for e in range(epochs):\n",
        "\n",
        "    loss_epoch = []\n",
        "\n",
        "    for data, targets in iter(train_loader):\n",
        "        data = data.to(device)\n",
        "        targets = targets.to(device)\n",
        "\n",
        "        SNN.train()\n",
        "\n",
        "        y_pred = SNN(data)\n",
        "\n",
        "        # initialize the loss & sum over time\n",
        "        loss_val = SNN.loss(y_pred, targets)\n",
        "\n",
        "        # Gradient calculation + weight update\n",
        "        optimizer.zero_grad()\n",
        "        loss_val.backward()\n",
        "        optimizer.step()\n",
        "\n",
        "        # Store loss history for future plotting\n",
        "        loss_epoch.append(loss_val.item())\n",
        "\n",
        "    loss_hist_bp.append(torch.mean(torch.tensor(loss_epoch)))\n",
        "\n",
        "    with torch.no_grad():\n",
        "        # Test set forward pass\n",
        "        test_acc = batch_accuracy(test_loader, SNN)\n",
        "        print(f\"Epoch {e}, Test Acc: {test_acc * 100}%\\n\")\n",
        "        test_acc_hist_bp.append(test_acc.item())"
      ]
    },
    {
      "cell_type": "code",
      "source": [
        "import matplotlib.pyplot as plt\n",
        "plt.figure()\n",
        "plt.plot(loss_hist_bp)\n",
        "plt.show()"
      ],
      "metadata": {
        "colab": {
          "base_uri": "https://localhost:8080/",
          "height": 430
        },
        "id": "yu7FR-0gJjgB",
        "outputId": "2396e7c5-f493-49ff-9a9b-a10d545ec196"
      },
      "execution_count": 42,
      "outputs": [
        {
          "output_type": "display_data",
          "data": {
            "text/plain": [
              "<Figure size 640x480 with 1 Axes>"
            ],
            "image/png": "[encoded data removed]"
          },
          "metadata": {}
        }
      ]
    },
    {
      "cell_type": "markdown",
      "source": [
        "#Data generation\n"
      ],
      "metadata": {
        "id": "QMah-5rMHbSj"
      }
    },
    {
      "cell_type": "code",
      "source": [
        "import torch\n",
        "import matplotlib.pyplot as plt\n",
        "\n",
        "# Parameters for two clusters\n",
        "means = [torch.tensor([2.0, 3.0]), torch.tensor([-3.0, -2.0])]  # List of mean vectors\n",
        "covariances = [\n",
        "    torch.tensor([[1.0, 0.5], [0.5, 1.0]]),  # Covariance matrix for cluster 1\n",
        "    torch.tensor([[1.0, -0.9], [-0.9, 1.0]])  # Covariance matrix for cluster 2\n",
        "]\n",
        "num_samples_per_cluster = 50  # Samples per cluster\n",
        "\n",
        "# Generate data for each cluster\n",
        "labels=[]\n",
        "data = []\n",
        "for ind, (mean, cov) in enumerate(zip(means, covariances)):\n",
        "    z = torch.randn(num_samples_per_cluster, len(mean))  # Standard normal samples\n",
        "    L = torch.linalg.cholesky(cov)  # Cholesky decomposition of covariance matrix\n",
        "    cluster_data = z @ L.T + mean  # Transform to desired mean and covariance\n",
        "    data.append(cluster_data)\n",
        "    labels.append(torch.ones(num_samples_per_cluster)*ind)\n",
        "\n",
        "#print(len(data[0]))\n",
        "# Combine all cluster data\n",
        "data = torch.cat(data, dim=0)\n",
        "labels = torch.cat(labels, dim=0)\n",
        "\n",
        "# print(data)\n",
        "# print(labels.shape)\n",
        "\n",
        "\n",
        "# Visualize\n",
        "plt.figure(figsize=(8, 6))\n",
        "plt.scatter(data[:, 0][labels==0], data[:, 1][labels==0], c=\"r\",label=\"cluster 0\", alpha=0.6)\n",
        "plt.scatter(data[:, 0][labels==1], data[:, 1][labels==1], c=\"b\",label=\"cluster 1\", alpha=0.6)\n",
        "plt.legend()\n",
        "plt.xlabel('Dimension 1')\n",
        "plt.ylabel('Dimension 2')\n",
        "plt.title('Scatter Plot of Data with Multiple Clusters')\n",
        "plt.show()\n"
      ],
      "metadata": {
        "colab": {
          "base_uri": "https://localhost:8080/",
          "height": 564
        },
        "id": "h5wfRXcPHxa9",
        "outputId": "bc3e2a9b-1595-4cc2-beaf-134776e5e6d1"
      },
      "execution_count": 62,
      "outputs": [
        {
          "output_type": "display_data",
          "data": {
            "text/plain": [
              "<Figure size 800x600 with 1 Axes>"
            ],
            "image/png": "[encoded data removed]"
          },
          "metadata": {}
        }
      ]
    }
  ],
  "metadata": {
    "kernelspec": {
      "display_name": "base",
      "language": "python",
      "name": "python3"
    },
    "language_info": {
      "codemirror_mode": {
        "name": "ipython",
        "version": 3
      },
      "file_extension": ".py",
      "mimetype": "text/x-python",
      "name": "python",
      "nbconvert_exporter": "python",
      "pygments_lexer": "ipython3",
      "version": "3.11.5"
    },
    "colab": {
      "provenance": []
    }
  },
  "nbformat": 4,
  "nbformat_minor": 0
}