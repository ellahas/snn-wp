{
  "cells": [
    {
      "cell_type": "markdown",
      "metadata": {
        "id": "DbBEMnZ2GoRz"
      },
      "source": [
        "### SNN WP"
      ]
    },
    {
      "cell_type": "code",
      "execution_count": 1,
      "metadata": {
        "colab": {
          "base_uri": "https://localhost:8080/"
        },
        "id": "NaxfRfK3GoR1",
        "outputId": "65dd160f-d7bd-4e57-ad2c-258373b66f54"
      },
      "outputs": [
        {
          "output_type": "stream",
          "name": "stdout",
          "text": [
            "Requirement already satisfied: snntorch in /usr/local/lib/python3.10/dist-packages (0.9.1)\n",
            "Requirement already satisfied: torch>=1.1.0 in /usr/local/lib/python3.10/dist-packages (from snntorch) (2.5.1+cu121)\n",
            "Requirement already satisfied: pandas in /usr/local/lib/python3.10/dist-packages (from snntorch) (2.2.2)\n",
            "Requirement already satisfied: matplotlib in /usr/local/lib/python3.10/dist-packages (from snntorch) (3.8.0)\n",
            "Requirement already satisfied: numpy>=1.17 in /usr/local/lib/python3.10/dist-packages (from snntorch) (1.26.4)\n",
            "Requirement already satisfied: nir in /usr/local/lib/python3.10/dist-packages (from snntorch) (1.0.4)\n",
            "Requirement already satisfied: nirtorch in /usr/local/lib/python3.10/dist-packages (from snntorch) (1.0)\n",
            "Requirement already satisfied: filelock in /usr/local/lib/python3.10/dist-packages (from torch>=1.1.0->snntorch) (3.16.1)\n",
            "Requirement already satisfied: typing-extensions>=4.8.0 in /usr/local/lib/python3.10/dist-packages (from torch>=1.1.0->snntorch) (4.12.2)\n",
            "Requirement already satisfied: networkx in /usr/local/lib/python3.10/dist-packages (from torch>=1.1.0->snntorch) (3.4.2)\n",
            "Requirement already satisfied: jinja2 in /usr/local/lib/python3.10/dist-packages (from torch>=1.1.0->snntorch) (3.1.4)\n",
            "Requirement already satisfied: fsspec in /usr/local/lib/python3.10/dist-packages (from torch>=1.1.0->snntorch) (2024.10.0)\n",
            "Requirement already satisfied: sympy==1.13.1 in /usr/local/lib/python3.10/dist-packages (from torch>=1.1.0->snntorch) (1.13.1)\n",
            "Requirement already satisfied: mpmath<1.4,>=1.1.0 in /usr/local/lib/python3.10/dist-packages (from sympy==1.13.1->torch>=1.1.0->snntorch) (1.3.0)\n",
            "Requirement already satisfied: contourpy>=1.0.1 in /usr/local/lib/python3.10/dist-packages (from matplotlib->snntorch) (1.3.1)\n",
            "Requirement already satisfied: cycler>=0.10 in /usr/local/lib/python3.10/dist-packages (from matplotlib->snntorch) (0.12.1)\n",
            "Requirement already satisfied: fonttools>=4.22.0 in /usr/local/lib/python3.10/dist-packages (from matplotlib->snntorch) (4.55.3)\n",
            "Requirement already satisfied: kiwisolver>=1.0.1 in /usr/local/lib/python3.10/dist-packages (from matplotlib->snntorch) (1.4.7)\n",
            "Requirement already satisfied: packaging>=20.0 in /usr/local/lib/python3.10/dist-packages (from matplotlib->snntorch) (24.2)\n",
            "Requirement already satisfied: pillow>=6.2.0 in /usr/local/lib/python3.10/dist-packages (from matplotlib->snntorch) (11.0.0)\n",
            "Requirement already satisfied: pyparsing>=2.3.1 in /usr/local/lib/python3.10/dist-packages (from matplotlib->snntorch) (3.2.0)\n",
            "Requirement already satisfied: python-dateutil>=2.7 in /usr/local/lib/python3.10/dist-packages (from matplotlib->snntorch) (2.8.2)\n",
            "Requirement already satisfied: h5py in /usr/local/lib/python3.10/dist-packages (from nir->snntorch) (3.12.1)\n",
            "Requirement already satisfied: pytz>=2020.1 in /usr/local/lib/python3.10/dist-packages (from pandas->snntorch) (2024.2)\n",
            "Requirement already satisfied: tzdata>=2022.7 in /usr/local/lib/python3.10/dist-packages (from pandas->snntorch) (2024.2)\n",
            "Requirement already satisfied: six>=1.5 in /usr/local/lib/python3.10/dist-packages (from python-dateutil>=2.7->matplotlib->snntorch) (1.17.0)\n",
            "Requirement already satisfied: MarkupSafe>=2.0 in /usr/local/lib/python3.10/dist-packages (from jinja2->torch>=1.1.0->snntorch) (3.0.2)\n"
          ]
        }
      ],
      "source": [
        "!pip install snntorch\n",
        "import snntorch as snn\n",
        "import snntorch.functional as SF\n",
        "\n",
        "from snntorch import spikeplot as splt\n",
        "\n",
        "from snntorch import spikegen\n",
        "\n",
        "import torch\n",
        "\n",
        "import torch.nn as nn\n",
        "\n",
        "import weight_perturbation as wp\n",
        "\n",
        "import wandb"
      ]
    },
    {
      "cell_type": "code",
      "source": [
        "run = 15 # Each run, increment this counter by 1\n",
        "torch.manual_seed(42)"
      ],
      "metadata": {
        "colab": {
          "base_uri": "https://localhost:8080/"
        },
        "id": "6Orqe8FLZIso",
        "outputId": "09ad8281-59ac-4e36-94b7-e97de28c2982"
      },
      "execution_count": 243,
      "outputs": [
        {
          "output_type": "execute_result",
          "data": {
            "text/plain": [
              "<torch._C.Generator at 0x780ee80c52d0>"
            ]
          },
          "metadata": {},
          "execution_count": 243
        }
      ]
    },
    {
      "cell_type": "code",
      "source": [
        "sigma_vals = [1, 1e-1, 1e-2, 1e-3, 1e-4]\n",
        "lr_vals = [1e-1, 1e-2, 1e-3, 1e-4, 1e-5]\n",
        "\n",
        "sigma = sigma_vals[run // len(lr_vals)]\n",
        "lr = lr_vals[run % len(lr_vals)]\n",
        "method = \"ffd\"\n",
        "epochs = 5\n",
        "print(sigma, lr)"
      ],
      "metadata": {
        "colab": {
          "base_uri": "https://localhost:8080/"
        },
        "id": "ikcD-Q7QZz0C",
        "outputId": "2b5fd7c5-c173-4afd-bd84-3a526bb14961"
      },
      "execution_count": 244,
      "outputs": [
        {
          "output_type": "stream",
          "name": "stdout",
          "text": [
            "0.001 0.1\n"
          ]
        }
      ]
    },
    {
      "cell_type": "code",
      "execution_count": 245,
      "metadata": {
        "colab": {
          "base_uri": "https://localhost:8080/"
        },
        "id": "_lsaCvfj-eOH",
        "outputId": "e10dd968-073e-40ee-d07f-5e16d05f9c82"
      },
      "outputs": [
        {
          "output_type": "execute_result",
          "data": {
            "text/plain": [
              "True"
            ]
          },
          "metadata": {},
          "execution_count": 245
        }
      ],
      "source": [
        "wandb.login()"
      ]
    },
    {
      "cell_type": "code",
      "execution_count": 246,
      "metadata": {
        "id": "ivSc5dUwGoR1"
      },
      "outputs": [],
      "source": [
        "# define a network\n",
        "\n",
        "\n",
        "class SNN_WP(nn.Module):\n",
        "    \"\"\"\n",
        "    SNN for weight perturbation. Consists of two fully connected layers of LIFs.\n",
        "    \"\"\"\n",
        "    def __init__(self, beta, num_inputs, num_hidden, num_outputs, loss):\n",
        "        \"\"\"\n",
        "        Initialize the network\n",
        "\n",
        "        Parameters\n",
        "        ----------\n",
        "        beta : float\n",
        "            The memory leakage of the LIF\n",
        "        num_inputs : int\n",
        "            The size of the input layer\n",
        "        num_hidden : int\n",
        "            The size of the output layer\n",
        "        num_outputs : int\n",
        "            The size of the output\n",
        "        loss : Loss\n",
        "            The loss used during training\n",
        "        \"\"\"\n",
        "        super(SNN_WP, self).__init__()\n",
        "\n",
        "        spike_grad = snn.surrogate.fast_sigmoid(slope=25) #needed for BP\n",
        "        self.fc1 = nn.Linear(num_inputs, num_hidden)\n",
        "        self.lif1 = snn.Leaky(beta=beta, spike_grad=spike_grad)\n",
        "        self.fc2 = nn.Linear(num_hidden, num_outputs)\n",
        "        self.lif2 = snn.Leaky(beta=beta, spike_grad=spike_grad)\n",
        "        self.loss = loss\n",
        "\n",
        "    def clean_forward(self, x):\n",
        "        \"\"\"Wrapper function of forward for readability purposes\"\"\"\n",
        "        return self.forward(x)\n",
        "\n",
        "    def noisy_forward(self, x, noise):\n",
        "        \"\"\"Perturbs the weights and runs a forward pass\n",
        "\n",
        "        Parameters\n",
        "        ----------\n",
        "        x : Array\n",
        "            Input data as spike trains\n",
        "        noise : dict\n",
        "            Noise for each network parameter\n",
        "\n",
        "        Returns\n",
        "        -------\n",
        "        spk : Array\n",
        "            Output spike train\n",
        "        \"\"\"\n",
        "        original_state = self.state_dict()\n",
        "\n",
        "        params = self.named_parameters()\n",
        "        trainable_params = {name: p.data for name, p in params if p.requires_grad}\n",
        "        perturbed_params = wp.dictionary_add(trainable_params, noise)\n",
        "        self.load_state_dict(perturbed_params, strict=False)\n",
        "        spk = self.forward(x)\n",
        "\n",
        "        # reset the parameters back to the unperturbed parameters\n",
        "        self.load_state_dict(original_state)\n",
        "\n",
        "        return spk\n",
        "\n",
        "    def forward(self, x):\n",
        "        \"\"\"Perturbs the weights and runs a forward pass\n",
        "\n",
        "        Parameters\n",
        "        ----------\n",
        "        x : Array\n",
        "            Input data as spike trains\n",
        "\n",
        "        Returns\n",
        "        -------\n",
        "        spk : Array\n",
        "            Output spike train\n",
        "        \"\"\"\n",
        "        # self.mem1 = self.lif1.init_leaky()\n",
        "        # self.mem2 = self.lif2.init_leaky()\n",
        "        # for step in range(x.shape[0]):\n",
        "        #     cur1 = self.fc1(x[step])  # post-synaptic current <-- spk_in x weight\n",
        "        #     spk1, self.mem1 = self.lif1(cur1, self.mem1)  # mem[t+1] <--post-syn current + decayed membrane\n",
        "        #     cur2 = self.fc2(spk1)\n",
        "        #     spk2, self.mem2 = self.lif2(cur2, self.mem2)\n",
        "        # return spk2\n",
        "        self.mem1 = self.lif1.init_leaky()\n",
        "        self.mem2 = self.lif2.init_leaky()\n",
        "        self.output_spikes = torch.zeros((x.shape[1], x.shape[0], x.shape[2]))\n",
        "        for step in range(x.shape[1]):\n",
        "            cur1 = self.fc1(x[:, step])  # post-synaptic current <-- spk_in x weight\n",
        "            spk1, self.mem1 = self.lif1(cur1, self.mem1)  # mem[t+1] <--post-syn current + decayed membrane\n",
        "            cur2 = self.fc2(spk1)\n",
        "            spk2, self.mem2 = self.lif2(cur2, self.mem2)\n",
        "\n",
        "            self.output_spikes[step, :] = spk2\n",
        "        return self.output_spikes\n",
        "\n",
        "    def forward_pass(self, x, y, noise=None):\n",
        "        \"\"\"Perturbs the weights and runs a forward pass\n",
        "\n",
        "        Parameters\n",
        "        ----------\n",
        "        x : Array\n",
        "            Input data as spike trains\n",
        "        y : Array\n",
        "            True labels\n",
        "        noise : dict, optional\n",
        "            Noise for each network parameter\n",
        "\n",
        "        Returns\n",
        "        -------\n",
        "        loss : long\n",
        "            The loss of the pass\n",
        "        \"\"\"\n",
        "        if noise is None:\n",
        "            y_pred = self.clean_forward(x)\n",
        "            return self.loss(y_pred, y)\n",
        "        else:\n",
        "            y_pred = self.noisy_forward(x, noise)\n",
        "            return self.loss(y_pred, y)\n",
        "\n"
      ]
    },
    {
      "cell_type": "code",
      "execution_count": 247,
      "metadata": {
        "id": "lgSYnQIgGoR3"
      },
      "outputs": [],
      "source": [
        "class ClassificationDataset(torch.utils.data.Dataset):\n",
        "    \"\"\"Classification dataset.\"\"\"\n",
        "\n",
        "    def __init__(self, num_samples, timesteps, dim_in, num_classes, means, covariances):\n",
        "        \"\"\"Linear relation between input and output\"\"\"\n",
        "        self.num_samples = num_samples * num_classes\n",
        "        self.timesteps = timesteps\n",
        "        self.dim_in = dim_in\n",
        "\n",
        "        labels=[]\n",
        "        data = []\n",
        "        for ind, (mean, cov) in enumerate(zip(means, covariances)):\n",
        "          z = torch.randn(num_samples, len(mean))  # Standard normal samples\n",
        "          L = torch.linalg.cholesky(cov)  # Cholesky decomposition of covariance matrix\n",
        "          cluster_data = z @ L.T + mean  # Transform to desired mean and covariance\n",
        "          data.append(cluster_data)\n",
        "          #print(torch.ones(num_samples)*ind)\n",
        "          labels.append(torch.ones(num_samples, dtype=torch.long)*ind)\n",
        "\n",
        "        data = torch.cat(data, dim=0)\n",
        "        labels = torch.cat(labels, dim=0)\n",
        "\n",
        "        idxs = torch.randperm(self.num_samples)\n",
        "        data = data[idxs, :]\n",
        "        labels = labels[idxs]\n",
        "        data_normalized = (data - data.min()) / (data.max() - data.min() + 1e-6)\n",
        "        self.features = snn.spikegen.rate(data_normalized, timesteps)\n",
        "        self.labels = labels\n",
        "\n",
        "\n",
        "    def __len__(self):\n",
        "        \"\"\"Number of samples.\"\"\"\n",
        "        return self.num_samples\n",
        "\n",
        "    def __getitem__(self, idx):\n",
        "        return self.features[:, idx, :], self.labels[idx]"
      ]
    },
    {
      "cell_type": "code",
      "execution_count": 248,
      "metadata": {
        "id": "5NeTVTf8GoR3"
      },
      "outputs": [],
      "source": [
        "# Parameters for two clusters\n",
        "means = [torch.tensor([0.0, 1.0]), torch.tensor([-2.0, -2.0])]  # List of mean vectors\n",
        "covariances = [\n",
        "    torch.tensor([[1.0, 0.5], [0.5, 1.0]]),  # Covariance matrix for cluster 1\n",
        "    torch.tensor([[1.0, -0.6], [-0.6, 1.0]])  # Covariance matrix for cluster 2\n",
        "]\n",
        "num_samples_per_cluster = 1000  # Samples per cluster\n",
        "\n",
        "dataset = ClassificationDataset(num_samples_per_cluster, 80, 8,num_classes=2, means=means, covariances=covariances)\n",
        "\n",
        "train_set, test_set = torch.utils.data.random_split(dataset, [int(len(dataset)*0.9), int(len(dataset)*0.1)])\n",
        "\n",
        "\n",
        "train_loader = torch.utils.data.DataLoader(\n",
        "    dataset=train_set, batch_size=20, drop_last=True\n",
        ")\n",
        "test_loader = torch.utils.data.DataLoader(\n",
        "    dataset=test_set, batch_size=20, drop_last=True\n",
        ")\n"
      ]
    },
    {
      "cell_type": "code",
      "execution_count": 249,
      "metadata": {
        "id": "fB9KHEMBGoR4"
      },
      "outputs": [],
      "source": [
        "def batch_accuracy(test_loader, net):\n",
        "    with torch.no_grad():\n",
        "        total = 0\n",
        "        acc = 0\n",
        "        net.eval()\n",
        "\n",
        "        test_loader = iter(test_loader)\n",
        "        for data, targets in test_loader:\n",
        "            data = data.to(device)\n",
        "            targets = targets.to(device)\n",
        "            spk_rec = net(data)\n",
        "\n",
        "            acc += SF.accuracy_rate(spk_rec, targets) * spk_rec.size(1)\n",
        "            total += spk_rec.size(1)\n",
        "\n",
        "    return acc / total"
      ]
    },
    {
      "cell_type": "code",
      "execution_count": 250,
      "metadata": {
        "colab": {
          "base_uri": "https://localhost:8080/",
          "height": 124
        },
        "id": "lRxzKP-DGoR3",
        "outputId": "14914641-8b48-4937-8d44-7a5e78016b18"
      },
      "outputs": [
        {
          "output_type": "display_data",
          "data": {
            "text/plain": [
              "<IPython.core.display.HTML object>"
            ],
            "text/html": [
              "Tracking run with wandb version 0.18.7"
            ]
          },
          "metadata": {}
        },
        {
          "output_type": "display_data",
          "data": {
            "text/plain": [
              "<IPython.core.display.HTML object>"
            ],
            "text/html": [
              "Run data is saved locally in <code>/content/wandb/run-20241215_100034-nahxgmsz</code>"
            ]
          },
          "metadata": {}
        },
        {
          "output_type": "display_data",
          "data": {
            "text/plain": [
              "<IPython.core.display.HTML object>"
            ],
            "text/html": [
              "Syncing run <strong><a href='https://wandb.ai/martin-kraus/SNN_WP/runs/nahxgmsz' target=\"_blank\">classification run with lr:0.1 sigma:0.001</a></strong> to <a href='https://wandb.ai/martin-kraus/SNN_WP' target=\"_blank\">Weights & Biases</a> (<a href='https://wandb.me/developer-guide' target=\"_blank\">docs</a>)<br/>"
            ]
          },
          "metadata": {}
        },
        {
          "output_type": "display_data",
          "data": {
            "text/plain": [
              "<IPython.core.display.HTML object>"
            ],
            "text/html": [
              " View project at <a href='https://wandb.ai/martin-kraus/SNN_WP' target=\"_blank\">https://wandb.ai/martin-kraus/SNN_WP</a>"
            ]
          },
          "metadata": {}
        },
        {
          "output_type": "display_data",
          "data": {
            "text/plain": [
              "<IPython.core.display.HTML object>"
            ],
            "text/html": [
              " View run at <a href='https://wandb.ai/martin-kraus/SNN_WP/runs/nahxgmsz' target=\"_blank\">https://wandb.ai/martin-kraus/SNN_WP/runs/nahxgmsz</a>"
            ]
          },
          "metadata": {}
        }
      ],
      "source": [
        "# layer parameters\n",
        "num_steps = 20\n",
        "num_inputs = 2\n",
        "num_hidden = 20\n",
        "num_outputs = 2\n",
        "beta = 0.99\n",
        "\n",
        "\n",
        "# training parameters\n",
        "loss_hist_wp = []\n",
        "test_acc_hist_wp = []\n",
        "device = \"cpu\"\n",
        "\n",
        "config = {\n",
        "    \"learning rate\": lr,\n",
        "    \"sigma\": sigma,\n",
        "    \"beta\": beta,\n",
        "    \"method\": method,\n",
        "    \"dim_in\": num_inputs,\n",
        "}\n",
        "\n",
        "\n",
        "loss = SF.ce_rate_loss()\n",
        "SNN = SNN_WP(beta, num_inputs, num_hidden, num_outputs, loss)\n",
        "\n",
        "# Initialize the run with appropriate run name\n",
        "name = f\"classification run with lr:{lr} sigma:{sigma}\"\n",
        "run = wandb.init(project=\"SNN_WP\", entity=\"martin-kraus\", config=config, settings=wandb.Settings(init_timeout=180), name=name)\n"
      ]
    },
    {
      "cell_type": "code",
      "execution_count": 251,
      "metadata": {
        "colab": {
          "base_uri": "https://localhost:8080/"
        },
        "id": "vmmYElCgGoR4",
        "outputId": "c0ce3514-cc0e-42ab-9e91-01ca30ae05ee"
      },
      "outputs": [
        {
          "output_type": "stream",
          "name": "stdout",
          "text": [
            "Epoch 0, Test Acc: 51.00%\n",
            "\n",
            "Epoch 1, Test Acc: 53.00%\n",
            "\n",
            "Epoch 2, Test Acc: 49.00%\n",
            "\n",
            "Epoch 3, Test Acc: 65.00%\n",
            "\n",
            "Epoch 4, Test Acc: 57.00%\n",
            "\n"
          ]
        }
      ],
      "source": [
        "# Training loop for WP\n",
        "\n",
        "sampler = torch.distributions.Normal(0, sigma)\n",
        "# make a sampler\n",
        "\n",
        "with torch.no_grad():\n",
        "    for e in range(epochs):\n",
        "        # get input and targets from task\n",
        "        loss_epoch = []\n",
        "        for data, targets in iter(train_loader):\n",
        "\n",
        "            data = data.to(device)\n",
        "            targets = targets.to(device)\n",
        "\n",
        "            params = SNN.named_parameters()\n",
        "            trainable_params = {name: p.data for name, p in params if p.requires_grad}\n",
        "\n",
        "            loss = SNN.forward_pass(data, targets)\n",
        "\n",
        "            wp_grad = wp.compute_snn_gradient(\n",
        "                SNN.forward_pass, data, targets, trainable_params, sampler, method\n",
        "            )  # do forward passes and compute gradient\n",
        "            #print(wp_grad)\n",
        "            new_weights = wp.update_weights(wp_grad, trainable_params, sigma, lr)\n",
        "            #print(new_weights)\n",
        "            SNN.load_state_dict(new_weights, strict=False)  # update the weights. Huzzah\n",
        "\n",
        "            loss_epoch.append(loss.item())\n",
        "\n",
        "        loss_hist_wp.append(torch.mean(torch.tensor(loss_epoch)))\n",
        "\n",
        "        with torch.no_grad():\n",
        "            # Test set forward pass\n",
        "            test_acc = batch_accuracy(test_loader, SNN)\n",
        "            print(f\"Epoch {e}, Test Acc: {test_acc * 100:.2f}%\\n\")\n",
        "            test_acc_hist_wp.append(test_acc.item())"
      ]
    },
    {
      "cell_type": "code",
      "execution_count": 252,
      "metadata": {
        "colab": {
          "base_uri": "https://localhost:8080/",
          "height": 472
        },
        "id": "5giZ9k2kHY0P",
        "outputId": "203f1830-71ea-4046-bd0a-9f9d3c8c0113"
      },
      "outputs": [
        {
          "output_type": "stream",
          "name": "stdout",
          "text": [
            "[tensor(0.6941), tensor(0.6536), tensor(0.6317), tensor(0.5722), tensor(0.5784)]\n"
          ]
        },
        {
          "output_type": "display_data",
          "data": {
            "text/plain": [
              "<Figure size 640x480 with 1 Axes>"
            ],
            "image/png": "[encoded data removed]"
          },
          "metadata": {}
        }
      ],
      "source": [
        "#very vollatile\n",
        "import matplotlib.pyplot as plt\n",
        "plt.figure()\n",
        "plt.plot(loss_hist_wp)\n",
        "print(loss_hist_wp)\n",
        "plt.show()"
      ]
    },
    {
      "cell_type": "code",
      "execution_count": 253,
      "metadata": {
        "id": "bYYIJ8-5JK4w"
      },
      "outputs": [],
      "source": [
        "# layer parameters\n",
        "num_steps = 20\n",
        "num_inputs = 2\n",
        "num_hidden = 20\n",
        "num_outputs = 2\n",
        "beta = 0.99\n",
        "loss = SF.ce_rate_loss()\n",
        "SNN = SNN_WP(beta, num_inputs, num_hidden, num_outputs, loss)\n",
        "\n",
        "\n",
        "\n",
        "# training parameters\n",
        "loss_hist_bp = []\n",
        "test_acc_hist_bp = []\n",
        "device = \"cpu\""
      ]
    },
    {
      "cell_type": "code",
      "execution_count": 254,
      "metadata": {
        "id": "JKZLt-TQGoR5"
      },
      "outputs": [],
      "source": [
        "# Training loop for BP\n",
        "\n",
        "# only run for one particular sigma, since sigma does not influence BP\n",
        "if sigma == 1:\n",
        "\n",
        "  optimizer = torch.optim.SGD(params=SNN.parameters(), lr=lr)\n",
        "  for e in range(epochs):\n",
        "\n",
        "      loss_epoch = []\n",
        "\n",
        "      for data, targets in iter(train_loader):\n",
        "          data = data.to(device)\n",
        "          targets = targets.to(device)\n",
        "\n",
        "          SNN.train()\n",
        "\n",
        "          y_pred = SNN(data)\n",
        "\n",
        "          # initialize the loss & sum over time\n",
        "          loss_val = SNN.loss(y_pred, targets)\n",
        "\n",
        "          # Gradient calculation + weight update\n",
        "          optimizer.zero_grad()\n",
        "          loss_val.backward()\n",
        "          optimizer.step()\n",
        "\n",
        "          # Store loss history for future plotting\n",
        "          loss_epoch.append(loss_val.item())\n",
        "\n",
        "      loss_hist_bp.append(torch.mean(torch.tensor(loss_epoch)))\n",
        "\n",
        "      with torch.no_grad():\n",
        "          # Test set forward pass\n",
        "          test_acc = batch_accuracy(test_loader, SNN)\n",
        "          print(f\"Epoch {e}, Test Acc: {test_acc * 100}%\\n\")\n",
        "          test_acc_hist_bp.append(test_acc.item())"
      ]
    },
    {
      "cell_type": "code",
      "execution_count": 255,
      "metadata": {
        "colab": {
          "base_uri": "https://localhost:8080/",
          "height": 450
        },
        "id": "yu7FR-0gJjgB",
        "outputId": "12f97bd7-4d5b-4ffb-9268-7f1ac298afec"
      },
      "outputs": [
        {
          "output_type": "display_data",
          "data": {
            "text/plain": [
              "<Figure size 640x480 with 1 Axes>"
            ],
            "image/png": "[encoded data removed]"
          },
          "metadata": {}
        }
      ],
      "source": [
        "import matplotlib.pyplot as plt\n",
        "plt.figure()\n",
        "plt.plot(loss_hist_bp)\n",
        "plt.show()"
      ]
    },
    {
      "cell_type": "code",
      "execution_count": 256,
      "metadata": {
        "id": "tIxkwwcjA2SP"
      },
      "outputs": [],
      "source": [
        "for e in range(epochs):\n",
        "  if sigma == 1:\n",
        "    wandb.log(\n",
        "        {\n",
        "            f\"classification/train/WP_{method}\": loss_hist_wp[e],\n",
        "            f\"classification/test/WP_{method}\": test_acc_hist_wp[e],\n",
        "            \"classification/train/BP\": loss_hist_bp[e],\n",
        "            \"classification/test/BP\": test_acc_hist_wp[e]\n",
        "        },\n",
        "        step=e\n",
        "    )\n",
        "  else:\n",
        "    wandb.log(\n",
        "        {\n",
        "            f\"classification/train/WP_{method}\": loss_hist_wp[e],\n",
        "            f\"classification/test/WP_{method}\": test_acc_hist_wp[e]\n",
        "        },\n",
        "        step=e\n",
        "    )"
      ]
    },
    {
      "cell_type": "code",
      "execution_count": 257,
      "metadata": {
        "id": "t1-F4iu-BUBo",
        "colab": {
          "base_uri": "https://localhost:8080/",
          "height": 212
        },
        "outputId": "784e2b5a-e366-4d16-c33f-43441cbc3b91"
      },
      "outputs": [
        {
          "output_type": "display_data",
          "data": {
            "text/plain": [
              "<IPython.core.display.HTML object>"
            ],
            "text/html": [
              "\n",
              "    <style>\n",
              "        .wandb-row {\n",
              "            display: flex;\n",
              "            flex-direction: row;\n",
              "            flex-wrap: wrap;\n",
              "            justify-content: flex-start;\n",
              "            width: 100%;\n",
              "        }\n",
              "        .wandb-col {\n",
              "            display: flex;\n",
              "            flex-direction: column;\n",
              "            flex-basis: 100%;\n",
              "            flex: 1;\n",
              "            padding: 10px;\n",
              "        }\n",
              "    </style>\n",
              "<div class=\"wandb-row\"><div class=\"wandb-col\"><h3>Run history:</h3><br/><table class=\"wandb\"><tr><td>classification/test/WP_ffd</td><td>▂▃▁█▅</td></tr><tr><td>classification/train/WP_ffd</td><td>█▆▄▁▁</td></tr></table><br/></div><div class=\"wandb-col\"><h3>Run summary:</h3><br/><table class=\"wandb\"><tr><td>classification/test/WP_ffd</td><td>0.57</td></tr><tr><td>classification/train/WP_ffd</td><td>0.57837</td></tr></table><br/></div></div>"
            ]
          },
          "metadata": {}
        },
        {
          "output_type": "display_data",
          "data": {
            "text/plain": [
              "<IPython.core.display.HTML object>"
            ],
            "text/html": [
              " View run <strong style=\"color:#cdcd00\">classification run with lr:0.1 sigma:0.001</strong> at: <a href='https://wandb.ai/martin-kraus/SNN_WP/runs/nahxgmsz' target=\"_blank\">https://wandb.ai/martin-kraus/SNN_WP/runs/nahxgmsz</a><br/> View project at: <a href='https://wandb.ai/martin-kraus/SNN_WP' target=\"_blank\">https://wandb.ai/martin-kraus/SNN_WP</a><br/>Synced 5 W&B file(s), 0 media file(s), 0 artifact file(s) and 0 other file(s)"
            ]
          },
          "metadata": {}
        },
        {
          "output_type": "display_data",
          "data": {
            "text/plain": [
              "<IPython.core.display.HTML object>"
            ],
            "text/html": [
              "Find logs at: <code>./wandb/run-20241215_100034-nahxgmsz/logs</code>"
            ]
          },
          "metadata": {}
        }
      ],
      "source": [
        "wandb.finish()"
      ]
    },
    {
      "cell_type": "markdown",
      "metadata": {
        "id": "QMah-5rMHbSj"
      },
      "source": [
        "#Data generation\n"
      ]
    },
    {
      "cell_type": "code",
      "execution_count": 258,
      "metadata": {
        "colab": {
          "base_uri": "https://localhost:8080/",
          "height": 54
        },
        "id": "h5wfRXcPHxa9",
        "outputId": "0e2d8fbb-051f-46ac-8135-681c54c2881e"
      },
      "outputs": [
        {
          "output_type": "display_data",
          "data": {
            "text/plain": [
              "<Figure size 800x600 with 1 Axes>"
            ],
            "image/png": "[encoded data removed]"
          },
          "metadata": {}
        }
      ],
      "source": [
        "import torch\n",
        "import matplotlib.pyplot as plt\n",
        "\n",
        "# Parameters for two clusters\n",
        "means = [torch.tensor([0.0, 1.0]), torch.tensor([-2.0, -2.0])]  # List of mean vectors\n",
        "covariances = [\n",
        "    torch.tensor([[1.0, 0.5], [0.5, 1.0]]),  # Covariance matrix for cluster 1\n",
        "    torch.tensor([[1.0, -0.6], [-0.6, 1.0]])  # Covariance matrix for cluster 2\n",
        "]\n",
        "num_samples_per_cluster = 50  # Samples per cluster\n",
        "\n",
        "# Generate data for each cluster\n",
        "labels=[]\n",
        "data = []\n",
        "for ind, (mean, cov) in enumerate(zip(means, covariances)):\n",
        "    z = torch.randn(num_samples_per_cluster, len(mean))  # Standard normal samples\n",
        "    L = torch.linalg.cholesky(cov)  # Cholesky decomposition of covariance matrix\n",
        "    cluster_data = z @ L.T + mean  # Transform to desired mean and covariance\n",
        "    data.append(cluster_data)\n",
        "    labels.append(torch.ones(num_samples_per_cluster)*ind)\n",
        "\n",
        "#print(len(data[0]))\n",
        "# Combine all cluster data\n",
        "data = torch.cat(data, dim=0)\n",
        "labels = torch.cat(labels, dim=0)\n",
        "\n",
        "# print(data)\n",
        "# print(labels.shape)\n",
        "\n",
        "\n",
        "# Visualize\n",
        "plt.figure(figsize=(8, 6))\n",
        "plt.scatter(data[:, 0][labels==0], data[:, 1][labels==0], c=\"r\",label=\"cluster 0\", alpha=0.6)\n",
        "plt.scatter(data[:, 0][labels==1], data[:, 1][labels==1], c=\"b\",label=\"cluster 1\", alpha=0.6)\n",
        "plt.legend()\n",
        "plt.xlabel('Dimension 1')\n",
        "plt.ylabel('Dimension 2')\n",
        "plt.title('Scatter Plot of Data with Multiple Clusters')\n",
        "plt.show()\n"
      ]
    },
    {
      "cell_type": "code",
      "source": [],
      "metadata": {
        "id": "3XoQAH7td0sQ"
      },
      "execution_count": 258,
      "outputs": []
    }
  ],
  "metadata": {
    "colab": {
      "provenance": [],
      "collapsed_sections": [
        "QMah-5rMHbSj"
      ]
    },
    "kernelspec": {
      "display_name": "Python 3 (ipykernel)",
      "language": "python",
      "name": "python3"
    },
    "language_info": {
      "codemirror_mode": {
        "name": "ipython",
        "version": 3
      },
      "file_extension": ".py",
      "mimetype": "text/x-python",
      "name": "python",
      "nbconvert_exporter": "python",
      "pygments_lexer": "ipython3",
      "version": "3.12.4"
    }
  },
  "nbformat": 4,
  "nbformat_minor": 0
}